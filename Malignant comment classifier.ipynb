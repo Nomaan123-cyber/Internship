{
 "cells": [
  {
   "cell_type": "markdown",
   "metadata": {},
   "source": [
    "Problem Statement"
   ]
  },
  {
   "cell_type": "markdown",
   "metadata": {},
   "source": [
    "The proliferation of social media enables people to express their opinions widely online. However, at the same time, this has resulted in the emergence of conflict and hate, making online environments uninviting for users. Although researchers have found that hate is a problem across multiple platforms, there is a lack of models for online hate detection.\n",
    "Online hate, described as abusive language, aggression, cyberbullying, hatefulness and many others has been identified as a major threat on online social media platforms. Social media platforms are the most prominent grounds for such toxic behaviour.   \n",
    "There has been a remarkable increase in the cases of cyberbullying and trolls on various social media platforms. Many celebrities and influences are facing backlashes from people and have to come across hateful and offensive comments. This can take a toll on anyone and affect them mentally leading to depression, mental illness, self-hatred and suicidal thoughts.    \n",
    "Internet comments are bastions of hatred and vitriol. While online anonymity has provided a new outlet for aggression and hate speech, machine learning can be used to fight it. The problem we sought to solve was the tagging of internet comments that are aggressive towards other users. This means that insults to third parties such as celebrities will be tagged as unoffensive, but “u are an idiot” is clearly offensive.\n",
    "Our goal is to build a prototype of online hate and abuse comment classifier which can used to classify hate and offensive comments so that it can be controlled and restricted from spreading hatred and cyberbullying. \n"
   ]
  },
  {
   "cell_type": "markdown",
   "metadata": {},
   "source": [
    "Data Set Description"
   ]
  },
  {
   "cell_type": "markdown",
   "metadata": {},
   "source": [
    "The data set contains the training set, which has approximately 1,59,000 samples and the test set which contains nearly 1,53,000 samples. All the data samples contain 8 fields which includes ‘Id’, ‘Comments’, ‘Malignant’, ‘Highly malignant’, ‘Rude’, ‘Threat’, ‘Abuse’ and ‘Loathe’. \n",
    "The label can be either 0 or 1, where 0 denotes a NO while 1 denotes a YES. There are various comments which have multiple labels. The first attribute is a unique ID associated with each comment.   \n"
   ]
  },
  {
   "cell_type": "markdown",
   "metadata": {},
   "source": [
    "The data set includes:"
   ]
  },
  {
   "cell_type": "raw",
   "metadata": {},
   "source": [
    "-\tMalignant: It is the Label column, which includes values 0 and 1, denoting if the comment is malignant or not. \n",
    "-\tHighly Malignant: It denotes comments that are highly malignant and hurtful. \n",
    "-\tRude: It denotes comments that are very rude and offensive.\n",
    "-\tThreat: It contains indication of the comments that are giving any threat to someone. \t\n",
    "-\tAbuse: It is for comments that are abusive in nature. \n",
    "-\tLoathe: It describes the comments which are hateful and loathing in nature.  \n",
    "-\tID: It includes unique Ids associated with each comment text given.   \n",
    "-\tComment text: This column contains the comments extracted from various social media platforms. \n"
   ]
  },
  {
   "cell_type": "markdown",
   "metadata": {},
   "source": [
    "This project is more about exploration, feature engineering and classification that can be done on this data. Since the data set is huge and includes many categories of comments, we can do good amount of data exploration and derive some interesting features using the comments text column available. "
   ]
  },
  {
   "cell_type": "code",
   "execution_count": 1,
   "metadata": {},
   "outputs": [],
   "source": [
    "import pandas as pd\n",
    "import numpy as np"
   ]
  },
  {
   "cell_type": "code",
   "execution_count": 2,
   "metadata": {},
   "outputs": [
    {
     "data": {
      "text/html": [
       "<div>\n",
       "<style scoped>\n",
       "    .dataframe tbody tr th:only-of-type {\n",
       "        vertical-align: middle;\n",
       "    }\n",
       "\n",
       "    .dataframe tbody tr th {\n",
       "        vertical-align: top;\n",
       "    }\n",
       "\n",
       "    .dataframe thead th {\n",
       "        text-align: right;\n",
       "    }\n",
       "</style>\n",
       "<table border=\"1\" class=\"dataframe\">\n",
       "  <thead>\n",
       "    <tr style=\"text-align: right;\">\n",
       "      <th></th>\n",
       "      <th>id</th>\n",
       "      <th>comment_text</th>\n",
       "      <th>malignant</th>\n",
       "      <th>highly_malignant</th>\n",
       "      <th>rude</th>\n",
       "      <th>threat</th>\n",
       "      <th>abuse</th>\n",
       "      <th>loathe</th>\n",
       "    </tr>\n",
       "  </thead>\n",
       "  <tbody>\n",
       "    <tr>\n",
       "      <th>0</th>\n",
       "      <td>0000997932d777bf</td>\n",
       "      <td>Explanation\\nWhy the edits made under my usern...</td>\n",
       "      <td>0</td>\n",
       "      <td>0</td>\n",
       "      <td>0</td>\n",
       "      <td>0</td>\n",
       "      <td>0</td>\n",
       "      <td>0</td>\n",
       "    </tr>\n",
       "    <tr>\n",
       "      <th>1</th>\n",
       "      <td>000103f0d9cfb60f</td>\n",
       "      <td>D'aww! He matches this background colour I'm s...</td>\n",
       "      <td>0</td>\n",
       "      <td>0</td>\n",
       "      <td>0</td>\n",
       "      <td>0</td>\n",
       "      <td>0</td>\n",
       "      <td>0</td>\n",
       "    </tr>\n",
       "    <tr>\n",
       "      <th>2</th>\n",
       "      <td>000113f07ec002fd</td>\n",
       "      <td>Hey man, I'm really not trying to edit war. It...</td>\n",
       "      <td>0</td>\n",
       "      <td>0</td>\n",
       "      <td>0</td>\n",
       "      <td>0</td>\n",
       "      <td>0</td>\n",
       "      <td>0</td>\n",
       "    </tr>\n",
       "    <tr>\n",
       "      <th>3</th>\n",
       "      <td>0001b41b1c6bb37e</td>\n",
       "      <td>\"\\nMore\\nI can't make any real suggestions on ...</td>\n",
       "      <td>0</td>\n",
       "      <td>0</td>\n",
       "      <td>0</td>\n",
       "      <td>0</td>\n",
       "      <td>0</td>\n",
       "      <td>0</td>\n",
       "    </tr>\n",
       "    <tr>\n",
       "      <th>4</th>\n",
       "      <td>0001d958c54c6e35</td>\n",
       "      <td>You, sir, are my hero. Any chance you remember...</td>\n",
       "      <td>0</td>\n",
       "      <td>0</td>\n",
       "      <td>0</td>\n",
       "      <td>0</td>\n",
       "      <td>0</td>\n",
       "      <td>0</td>\n",
       "    </tr>\n",
       "    <tr>\n",
       "      <th>...</th>\n",
       "      <td>...</td>\n",
       "      <td>...</td>\n",
       "      <td>...</td>\n",
       "      <td>...</td>\n",
       "      <td>...</td>\n",
       "      <td>...</td>\n",
       "      <td>...</td>\n",
       "      <td>...</td>\n",
       "    </tr>\n",
       "    <tr>\n",
       "      <th>159566</th>\n",
       "      <td>ffe987279560d7ff</td>\n",
       "      <td>\":::::And for the second time of asking, when ...</td>\n",
       "      <td>0</td>\n",
       "      <td>0</td>\n",
       "      <td>0</td>\n",
       "      <td>0</td>\n",
       "      <td>0</td>\n",
       "      <td>0</td>\n",
       "    </tr>\n",
       "    <tr>\n",
       "      <th>159567</th>\n",
       "      <td>ffea4adeee384e90</td>\n",
       "      <td>You should be ashamed of yourself \\n\\nThat is ...</td>\n",
       "      <td>0</td>\n",
       "      <td>0</td>\n",
       "      <td>0</td>\n",
       "      <td>0</td>\n",
       "      <td>0</td>\n",
       "      <td>0</td>\n",
       "    </tr>\n",
       "    <tr>\n",
       "      <th>159568</th>\n",
       "      <td>ffee36eab5c267c9</td>\n",
       "      <td>Spitzer \\n\\nUmm, theres no actual article for ...</td>\n",
       "      <td>0</td>\n",
       "      <td>0</td>\n",
       "      <td>0</td>\n",
       "      <td>0</td>\n",
       "      <td>0</td>\n",
       "      <td>0</td>\n",
       "    </tr>\n",
       "    <tr>\n",
       "      <th>159569</th>\n",
       "      <td>fff125370e4aaaf3</td>\n",
       "      <td>And it looks like it was actually you who put ...</td>\n",
       "      <td>0</td>\n",
       "      <td>0</td>\n",
       "      <td>0</td>\n",
       "      <td>0</td>\n",
       "      <td>0</td>\n",
       "      <td>0</td>\n",
       "    </tr>\n",
       "    <tr>\n",
       "      <th>159570</th>\n",
       "      <td>fff46fc426af1f9a</td>\n",
       "      <td>\"\\nAnd ... I really don't think you understand...</td>\n",
       "      <td>0</td>\n",
       "      <td>0</td>\n",
       "      <td>0</td>\n",
       "      <td>0</td>\n",
       "      <td>0</td>\n",
       "      <td>0</td>\n",
       "    </tr>\n",
       "  </tbody>\n",
       "</table>\n",
       "<p>159571 rows × 8 columns</p>\n",
       "</div>"
      ],
      "text/plain": [
       "                      id                                       comment_text  \\\n",
       "0       0000997932d777bf  Explanation\\nWhy the edits made under my usern...   \n",
       "1       000103f0d9cfb60f  D'aww! He matches this background colour I'm s...   \n",
       "2       000113f07ec002fd  Hey man, I'm really not trying to edit war. It...   \n",
       "3       0001b41b1c6bb37e  \"\\nMore\\nI can't make any real suggestions on ...   \n",
       "4       0001d958c54c6e35  You, sir, are my hero. Any chance you remember...   \n",
       "...                  ...                                                ...   \n",
       "159566  ffe987279560d7ff  \":::::And for the second time of asking, when ...   \n",
       "159567  ffea4adeee384e90  You should be ashamed of yourself \\n\\nThat is ...   \n",
       "159568  ffee36eab5c267c9  Spitzer \\n\\nUmm, theres no actual article for ...   \n",
       "159569  fff125370e4aaaf3  And it looks like it was actually you who put ...   \n",
       "159570  fff46fc426af1f9a  \"\\nAnd ... I really don't think you understand...   \n",
       "\n",
       "        malignant  highly_malignant  rude  threat  abuse  loathe  \n",
       "0               0                 0     0       0      0       0  \n",
       "1               0                 0     0       0      0       0  \n",
       "2               0                 0     0       0      0       0  \n",
       "3               0                 0     0       0      0       0  \n",
       "4               0                 0     0       0      0       0  \n",
       "...           ...               ...   ...     ...    ...     ...  \n",
       "159566          0                 0     0       0      0       0  \n",
       "159567          0                 0     0       0      0       0  \n",
       "159568          0                 0     0       0      0       0  \n",
       "159569          0                 0     0       0      0       0  \n",
       "159570          0                 0     0       0      0       0  \n",
       "\n",
       "[159571 rows x 8 columns]"
      ]
     },
     "execution_count": 2,
     "metadata": {},
     "output_type": "execute_result"
    }
   ],
   "source": [
    "df = pd.read_csv('Malignant train.csv')\n",
    "df"
   ]
  },
  {
   "cell_type": "code",
   "execution_count": 3,
   "metadata": {},
   "outputs": [
    {
     "data": {
      "text/html": [
       "<div>\n",
       "<style scoped>\n",
       "    .dataframe tbody tr th:only-of-type {\n",
       "        vertical-align: middle;\n",
       "    }\n",
       "\n",
       "    .dataframe tbody tr th {\n",
       "        vertical-align: top;\n",
       "    }\n",
       "\n",
       "    .dataframe thead th {\n",
       "        text-align: right;\n",
       "    }\n",
       "</style>\n",
       "<table border=\"1\" class=\"dataframe\">\n",
       "  <thead>\n",
       "    <tr style=\"text-align: right;\">\n",
       "      <th></th>\n",
       "      <th>id</th>\n",
       "      <th>comment_text</th>\n",
       "    </tr>\n",
       "  </thead>\n",
       "  <tbody>\n",
       "    <tr>\n",
       "      <th>0</th>\n",
       "      <td>00001cee341fdb12</td>\n",
       "      <td>Yo bitch Ja Rule is more succesful then you'll...</td>\n",
       "    </tr>\n",
       "    <tr>\n",
       "      <th>1</th>\n",
       "      <td>0000247867823ef7</td>\n",
       "      <td>== From RfC == \\n\\n The title is fine as it is...</td>\n",
       "    </tr>\n",
       "    <tr>\n",
       "      <th>2</th>\n",
       "      <td>00013b17ad220c46</td>\n",
       "      <td>\" \\n\\n == Sources == \\n\\n * Zawe Ashton on Lap...</td>\n",
       "    </tr>\n",
       "    <tr>\n",
       "      <th>3</th>\n",
       "      <td>00017563c3f7919a</td>\n",
       "      <td>:If you have a look back at the source, the in...</td>\n",
       "    </tr>\n",
       "    <tr>\n",
       "      <th>4</th>\n",
       "      <td>00017695ad8997eb</td>\n",
       "      <td>I don't anonymously edit articles at all.</td>\n",
       "    </tr>\n",
       "    <tr>\n",
       "      <th>...</th>\n",
       "      <td>...</td>\n",
       "      <td>...</td>\n",
       "    </tr>\n",
       "    <tr>\n",
       "      <th>153159</th>\n",
       "      <td>fffcd0960ee309b5</td>\n",
       "      <td>. \\n i totally agree, this stuff is nothing bu...</td>\n",
       "    </tr>\n",
       "    <tr>\n",
       "      <th>153160</th>\n",
       "      <td>fffd7a9a6eb32c16</td>\n",
       "      <td>== Throw from out field to home plate. == \\n\\n...</td>\n",
       "    </tr>\n",
       "    <tr>\n",
       "      <th>153161</th>\n",
       "      <td>fffda9e8d6fafa9e</td>\n",
       "      <td>\" \\n\\n == Okinotorishima categories == \\n\\n I ...</td>\n",
       "    </tr>\n",
       "    <tr>\n",
       "      <th>153162</th>\n",
       "      <td>fffe8f1340a79fc2</td>\n",
       "      <td>\" \\n\\n == \"\"One of the founding nations of the...</td>\n",
       "    </tr>\n",
       "    <tr>\n",
       "      <th>153163</th>\n",
       "      <td>ffffce3fb183ee80</td>\n",
       "      <td>\" \\n :::Stop already. Your bullshit is not wel...</td>\n",
       "    </tr>\n",
       "  </tbody>\n",
       "</table>\n",
       "<p>153164 rows × 2 columns</p>\n",
       "</div>"
      ],
      "text/plain": [
       "                      id                                       comment_text\n",
       "0       00001cee341fdb12  Yo bitch Ja Rule is more succesful then you'll...\n",
       "1       0000247867823ef7  == From RfC == \\n\\n The title is fine as it is...\n",
       "2       00013b17ad220c46  \" \\n\\n == Sources == \\n\\n * Zawe Ashton on Lap...\n",
       "3       00017563c3f7919a  :If you have a look back at the source, the in...\n",
       "4       00017695ad8997eb          I don't anonymously edit articles at all.\n",
       "...                  ...                                                ...\n",
       "153159  fffcd0960ee309b5  . \\n i totally agree, this stuff is nothing bu...\n",
       "153160  fffd7a9a6eb32c16  == Throw from out field to home plate. == \\n\\n...\n",
       "153161  fffda9e8d6fafa9e  \" \\n\\n == Okinotorishima categories == \\n\\n I ...\n",
       "153162  fffe8f1340a79fc2  \" \\n\\n == \"\"One of the founding nations of the...\n",
       "153163  ffffce3fb183ee80  \" \\n :::Stop already. Your bullshit is not wel...\n",
       "\n",
       "[153164 rows x 2 columns]"
      ]
     },
     "execution_count": 3,
     "metadata": {},
     "output_type": "execute_result"
    }
   ],
   "source": [
    "df1 = pd.read_csv('Malignant test.csv')\n",
    "df1"
   ]
  },
  {
   "cell_type": "code",
   "execution_count": 4,
   "metadata": {},
   "outputs": [
    {
     "data": {
      "text/plain": [
       "id                  0\n",
       "comment_text        0\n",
       "malignant           0\n",
       "highly_malignant    0\n",
       "rude                0\n",
       "threat              0\n",
       "abuse               0\n",
       "loathe              0\n",
       "dtype: int64"
      ]
     },
     "execution_count": 4,
     "metadata": {},
     "output_type": "execute_result"
    }
   ],
   "source": [
    "df.isnull().sum()"
   ]
  },
  {
   "cell_type": "code",
   "execution_count": 5,
   "metadata": {},
   "outputs": [
    {
     "data": {
      "text/plain": [
       "id              0\n",
       "comment_text    0\n",
       "dtype: int64"
      ]
     },
     "execution_count": 5,
     "metadata": {},
     "output_type": "execute_result"
    }
   ],
   "source": [
    "df1.isnull().sum()"
   ]
  },
  {
   "cell_type": "code",
   "execution_count": 6,
   "metadata": {},
   "outputs": [
    {
     "data": {
      "text/plain": [
       "id                  object\n",
       "comment_text        object\n",
       "malignant            int64\n",
       "highly_malignant     int64\n",
       "rude                 int64\n",
       "threat               int64\n",
       "abuse                int64\n",
       "loathe               int64\n",
       "dtype: object"
      ]
     },
     "execution_count": 6,
     "metadata": {},
     "output_type": "execute_result"
    }
   ],
   "source": [
    "df.dtypes"
   ]
  },
  {
   "cell_type": "code",
   "execution_count": 7,
   "metadata": {},
   "outputs": [
    {
     "data": {
      "text/plain": [
       "id              object\n",
       "comment_text    object\n",
       "dtype: object"
      ]
     },
     "execution_count": 7,
     "metadata": {},
     "output_type": "execute_result"
    }
   ],
   "source": [
    "df1.dtypes"
   ]
  },
  {
   "cell_type": "markdown",
   "metadata": {},
   "source": [
    "# Encoding of Dataframe"
   ]
  },
  {
   "cell_type": "code",
   "execution_count": 8,
   "metadata": {},
   "outputs": [
    {
     "name": "stderr",
     "output_type": "stream",
     "text": [
      "/opt/anaconda3/lib/python3.8/site-packages/sklearn/utils/validation.py:63: DataConversionWarning: A column-vector y was passed when a 1d array was expected. Please change the shape of y to (n_samples, ), for example using ravel().\n",
      "  return f(*args, **kwargs)\n"
     ]
    },
    {
     "data": {
      "text/html": [
       "<div>\n",
       "<style scoped>\n",
       "    .dataframe tbody tr th:only-of-type {\n",
       "        vertical-align: middle;\n",
       "    }\n",
       "\n",
       "    .dataframe tbody tr th {\n",
       "        vertical-align: top;\n",
       "    }\n",
       "\n",
       "    .dataframe thead th {\n",
       "        text-align: right;\n",
       "    }\n",
       "</style>\n",
       "<table border=\"1\" class=\"dataframe\">\n",
       "  <thead>\n",
       "    <tr style=\"text-align: right;\">\n",
       "      <th></th>\n",
       "      <th>id</th>\n",
       "      <th>comment_text</th>\n",
       "      <th>malignant</th>\n",
       "      <th>highly_malignant</th>\n",
       "      <th>rude</th>\n",
       "      <th>threat</th>\n",
       "      <th>abuse</th>\n",
       "      <th>loathe</th>\n",
       "    </tr>\n",
       "  </thead>\n",
       "  <tbody>\n",
       "    <tr>\n",
       "      <th>0</th>\n",
       "      <td>0</td>\n",
       "      <td>72698</td>\n",
       "      <td>0</td>\n",
       "      <td>0</td>\n",
       "      <td>0</td>\n",
       "      <td>0</td>\n",
       "      <td>0</td>\n",
       "      <td>0</td>\n",
       "    </tr>\n",
       "    <tr>\n",
       "      <th>1</th>\n",
       "      <td>1</td>\n",
       "      <td>68359</td>\n",
       "      <td>0</td>\n",
       "      <td>0</td>\n",
       "      <td>0</td>\n",
       "      <td>0</td>\n",
       "      <td>0</td>\n",
       "      <td>0</td>\n",
       "    </tr>\n",
       "    <tr>\n",
       "      <th>2</th>\n",
       "      <td>2</td>\n",
       "      <td>79594</td>\n",
       "      <td>0</td>\n",
       "      <td>0</td>\n",
       "      <td>0</td>\n",
       "      <td>0</td>\n",
       "      <td>0</td>\n",
       "      <td>0</td>\n",
       "    </tr>\n",
       "    <tr>\n",
       "      <th>3</th>\n",
       "      <td>4</td>\n",
       "      <td>35519</td>\n",
       "      <td>0</td>\n",
       "      <td>0</td>\n",
       "      <td>0</td>\n",
       "      <td>0</td>\n",
       "      <td>0</td>\n",
       "      <td>0</td>\n",
       "    </tr>\n",
       "    <tr>\n",
       "      <th>4</th>\n",
       "      <td>5</td>\n",
       "      <td>146426</td>\n",
       "      <td>0</td>\n",
       "      <td>0</td>\n",
       "      <td>0</td>\n",
       "      <td>0</td>\n",
       "      <td>0</td>\n",
       "      <td>0</td>\n",
       "    </tr>\n",
       "    <tr>\n",
       "      <th>...</th>\n",
       "      <td>...</td>\n",
       "      <td>...</td>\n",
       "      <td>...</td>\n",
       "      <td>...</td>\n",
       "      <td>...</td>\n",
       "      <td>...</td>\n",
       "      <td>...</td>\n",
       "      <td>...</td>\n",
       "    </tr>\n",
       "    <tr>\n",
       "      <th>159566</th>\n",
       "      <td>159505</td>\n",
       "      <td>44289</td>\n",
       "      <td>0</td>\n",
       "      <td>0</td>\n",
       "      <td>0</td>\n",
       "      <td>0</td>\n",
       "      <td>0</td>\n",
       "      <td>0</td>\n",
       "    </tr>\n",
       "    <tr>\n",
       "      <th>159567</th>\n",
       "      <td>159510</td>\n",
       "      <td>145720</td>\n",
       "      <td>0</td>\n",
       "      <td>0</td>\n",
       "      <td>0</td>\n",
       "      <td>0</td>\n",
       "      <td>0</td>\n",
       "      <td>0</td>\n",
       "    </tr>\n",
       "    <tr>\n",
       "      <th>159568</th>\n",
       "      <td>159524</td>\n",
       "      <td>122203</td>\n",
       "      <td>0</td>\n",
       "      <td>0</td>\n",
       "      <td>0</td>\n",
       "      <td>0</td>\n",
       "      <td>0</td>\n",
       "      <td>0</td>\n",
       "    </tr>\n",
       "    <tr>\n",
       "      <th>159569</th>\n",
       "      <td>159535</td>\n",
       "      <td>60037</td>\n",
       "      <td>0</td>\n",
       "      <td>0</td>\n",
       "      <td>0</td>\n",
       "      <td>0</td>\n",
       "      <td>0</td>\n",
       "      <td>0</td>\n",
       "    </tr>\n",
       "    <tr>\n",
       "      <th>159570</th>\n",
       "      <td>159541</td>\n",
       "      <td>31106</td>\n",
       "      <td>0</td>\n",
       "      <td>0</td>\n",
       "      <td>0</td>\n",
       "      <td>0</td>\n",
       "      <td>0</td>\n",
       "      <td>0</td>\n",
       "    </tr>\n",
       "  </tbody>\n",
       "</table>\n",
       "<p>159571 rows × 8 columns</p>\n",
       "</div>"
      ],
      "text/plain": [
       "            id  comment_text  malignant  highly_malignant  rude  threat  \\\n",
       "0            0         72698          0                 0     0       0   \n",
       "1            1         68359          0                 0     0       0   \n",
       "2            2         79594          0                 0     0       0   \n",
       "3            4         35519          0                 0     0       0   \n",
       "4            5        146426          0                 0     0       0   \n",
       "...        ...           ...        ...               ...   ...     ...   \n",
       "159566  159505         44289          0                 0     0       0   \n",
       "159567  159510        145720          0                 0     0       0   \n",
       "159568  159524        122203          0                 0     0       0   \n",
       "159569  159535         60037          0                 0     0       0   \n",
       "159570  159541         31106          0                 0     0       0   \n",
       "\n",
       "        abuse  loathe  \n",
       "0           0       0  \n",
       "1           0       0  \n",
       "2           0       0  \n",
       "3           0       0  \n",
       "4           0       0  \n",
       "...       ...     ...  \n",
       "159566      0       0  \n",
       "159567      0       0  \n",
       "159568      0       0  \n",
       "159569      0       0  \n",
       "159570      0       0  \n",
       "\n",
       "[159571 rows x 8 columns]"
      ]
     },
     "execution_count": 8,
     "metadata": {},
     "output_type": "execute_result"
    }
   ],
   "source": [
    "from sklearn.preprocessing import LabelEncoder\n",
    "le=LabelEncoder()\n",
    "for i in df.columns:\n",
    "    if df[i].dtypes=='object':\n",
    "        df[i]=le.fit_transform(df[i].values.reshape(-1,1))\n",
    "df\n",
    "    "
   ]
  },
  {
   "cell_type": "code",
   "execution_count": 9,
   "metadata": {},
   "outputs": [
    {
     "name": "stderr",
     "output_type": "stream",
     "text": [
      "/opt/anaconda3/lib/python3.8/site-packages/sklearn/utils/validation.py:63: DataConversionWarning: A column-vector y was passed when a 1d array was expected. Please change the shape of y to (n_samples, ), for example using ravel().\n",
      "  return f(*args, **kwargs)\n"
     ]
    },
    {
     "data": {
      "text/html": [
       "<div>\n",
       "<style scoped>\n",
       "    .dataframe tbody tr th:only-of-type {\n",
       "        vertical-align: middle;\n",
       "    }\n",
       "\n",
       "    .dataframe tbody tr th {\n",
       "        vertical-align: top;\n",
       "    }\n",
       "\n",
       "    .dataframe thead th {\n",
       "        text-align: right;\n",
       "    }\n",
       "</style>\n",
       "<table border=\"1\" class=\"dataframe\">\n",
       "  <thead>\n",
       "    <tr style=\"text-align: right;\">\n",
       "      <th></th>\n",
       "      <th>id</th>\n",
       "      <th>comment_text</th>\n",
       "    </tr>\n",
       "  </thead>\n",
       "  <tbody>\n",
       "    <tr>\n",
       "      <th>0</th>\n",
       "      <td>0</td>\n",
       "      <td>139489</td>\n",
       "    </tr>\n",
       "    <tr>\n",
       "      <th>1</th>\n",
       "      <td>1</td>\n",
       "      <td>82945</td>\n",
       "    </tr>\n",
       "    <tr>\n",
       "      <th>2</th>\n",
       "      <td>2</td>\n",
       "      <td>15380</td>\n",
       "    </tr>\n",
       "    <tr>\n",
       "      <th>3</th>\n",
       "      <td>3</td>\n",
       "      <td>71743</td>\n",
       "    </tr>\n",
       "    <tr>\n",
       "      <th>4</th>\n",
       "      <td>4</td>\n",
       "      <td>116535</td>\n",
       "    </tr>\n",
       "    <tr>\n",
       "      <th>...</th>\n",
       "      <td>...</td>\n",
       "      <td>...</td>\n",
       "    </tr>\n",
       "    <tr>\n",
       "      <th>153159</th>\n",
       "      <td>153159</td>\n",
       "      <td>51845</td>\n",
       "    </tr>\n",
       "    <tr>\n",
       "      <th>153160</th>\n",
       "      <td>153160</td>\n",
       "      <td>93347</td>\n",
       "    </tr>\n",
       "    <tr>\n",
       "      <th>153161</th>\n",
       "      <td>153161</td>\n",
       "      <td>13499</td>\n",
       "    </tr>\n",
       "    <tr>\n",
       "      <th>153162</th>\n",
       "      <td>153162</td>\n",
       "      <td>8042</td>\n",
       "    </tr>\n",
       "    <tr>\n",
       "      <th>153163</th>\n",
       "      <td>153163</td>\n",
       "      <td>30249</td>\n",
       "    </tr>\n",
       "  </tbody>\n",
       "</table>\n",
       "<p>153164 rows × 2 columns</p>\n",
       "</div>"
      ],
      "text/plain": [
       "            id  comment_text\n",
       "0            0        139489\n",
       "1            1         82945\n",
       "2            2         15380\n",
       "3            3         71743\n",
       "4            4        116535\n",
       "...        ...           ...\n",
       "153159  153159         51845\n",
       "153160  153160         93347\n",
       "153161  153161         13499\n",
       "153162  153162          8042\n",
       "153163  153163         30249\n",
       "\n",
       "[153164 rows x 2 columns]"
      ]
     },
     "execution_count": 9,
     "metadata": {},
     "output_type": "execute_result"
    }
   ],
   "source": [
    "for i in df1.columns:\n",
    "    if df1[i].dtypes=='object':\n",
    "        df1[i]=le.fit_transform(df1[i].values.reshape(-1,1))\n",
    "df1"
   ]
  },
  {
   "cell_type": "code",
   "execution_count": 10,
   "metadata": {},
   "outputs": [
    {
     "data": {
      "text/plain": [
       "id                  0\n",
       "comment_text        0\n",
       "malignant           0\n",
       "highly_malignant    0\n",
       "rude                0\n",
       "threat              0\n",
       "abuse               0\n",
       "loathe              0\n",
       "dtype: int64"
      ]
     },
     "execution_count": 10,
     "metadata": {},
     "output_type": "execute_result"
    }
   ],
   "source": [
    "df.isnull().sum()"
   ]
  },
  {
   "cell_type": "code",
   "execution_count": 11,
   "metadata": {},
   "outputs": [
    {
     "data": {
      "text/plain": [
       "id              0\n",
       "comment_text    0\n",
       "dtype: int64"
      ]
     },
     "execution_count": 11,
     "metadata": {},
     "output_type": "execute_result"
    }
   ],
   "source": [
    "df1.isnull().sum()"
   ]
  },
  {
   "cell_type": "markdown",
   "metadata": {},
   "source": [
    "# Data Visualization"
   ]
  },
  {
   "cell_type": "code",
   "execution_count": 12,
   "metadata": {},
   "outputs": [],
   "source": [
    "import matplotlib.pyplot as plt\n",
    "import seaborn as sns"
   ]
  },
  {
   "cell_type": "code",
   "execution_count": 13,
   "metadata": {},
   "outputs": [
    {
     "data": {
      "text/plain": [
       "id                  int64\n",
       "comment_text        int64\n",
       "malignant           int64\n",
       "highly_malignant    int64\n",
       "rude                int64\n",
       "threat              int64\n",
       "abuse               int64\n",
       "loathe              int64\n",
       "dtype: object"
      ]
     },
     "execution_count": 13,
     "metadata": {},
     "output_type": "execute_result"
    }
   ],
   "source": [
    "df.dtypes"
   ]
  },
  {
   "cell_type": "code",
   "execution_count": 14,
   "metadata": {},
   "outputs": [
    {
     "data": {
      "text/plain": [
       "id              int64\n",
       "comment_text    int64\n",
       "dtype: object"
      ]
     },
     "execution_count": 14,
     "metadata": {},
     "output_type": "execute_result"
    }
   ],
   "source": [
    "df1.dtypes"
   ]
  },
  {
   "cell_type": "code",
   "execution_count": 15,
   "metadata": {},
   "outputs": [
    {
     "data": {
      "text/plain": [
       "<AxesSubplot:xlabel='id', ylabel='Count'>"
      ]
     },
     "execution_count": 15,
     "metadata": {},
     "output_type": "execute_result"
    },
    {
     "data": {
      "image/png": "[encoded data removed]",
      "text/plain": [
       "<Figure size 432x288 with 1 Axes>"
      ]
     },
     "metadata": {
      "needs_background": "light"
     },
     "output_type": "display_data"
    }
   ],
   "source": [
    "sns.histplot(x='id',bins=20,data=df,kde=True)"
   ]
  },
  {
   "cell_type": "code",
   "execution_count": 16,
   "metadata": {},
   "outputs": [
    {
     "data": {
      "text/plain": [
       "<AxesSubplot:xlabel='id', ylabel='Count'>"
      ]
     },
     "execution_count": 16,
     "metadata": {},
     "output_type": "execute_result"
    },
    {
     "data": {
      "image/png": "[encoded data removed]",
      "text/plain": [
       "<Figure size 432x288 with 1 Axes>"
      ]
     },
     "metadata": {
      "needs_background": "light"
     },
     "output_type": "display_data"
    }
   ],
   "source": [
    "sns.histplot(x='id',data=df1,bins=20,kde=True)"
   ]
  },
  {
   "cell_type": "code",
   "execution_count": 17,
   "metadata": {},
   "outputs": [
    {
     "data": {
      "text/plain": [
       "<AxesSubplot:xlabel='comment_text', ylabel='Count'>"
      ]
     },
     "execution_count": 17,
     "metadata": {},
     "output_type": "execute_result"
    },
    {
     "data": {
      "image/png": "[encoded data removed]",
      "text/plain": [
       "<Figure size 432x288 with 1 Axes>"
      ]
     },
     "metadata": {
      "needs_background": "light"
     },
     "output_type": "display_data"
    }
   ],
   "source": [
    "sns.histplot(x='comment_text',data=df,bins=20,kde=True)"
   ]
  },
  {
   "cell_type": "code",
   "execution_count": 18,
   "metadata": {},
   "outputs": [
    {
     "data": {
      "text/plain": [
       "<AxesSubplot:xlabel='comment_text', ylabel='Count'>"
      ]
     },
     "execution_count": 18,
     "metadata": {},
     "output_type": "execute_result"
    },
    {
     "data": {
      "image/png": "[encoded data removed]",
      "text/plain": [
       "<Figure size 432x288 with 1 Axes>"
      ]
     },
     "metadata": {
      "needs_background": "light"
     },
     "output_type": "display_data"
    }
   ],
   "source": [
    "sns.histplot(x='comment_text',data=df1,bins=20,kde=True)"
   ]
  },
  {
   "cell_type": "code",
   "execution_count": 19,
   "metadata": {},
   "outputs": [
    {
     "name": "stdout",
     "output_type": "stream",
     "text": [
      "0    144277\n",
      "1     15294\n",
      "Name: malignant, dtype: int64\n"
     ]
    },
    {
     "data": {
      "image/png": "[encoded data removed]",
      "text/plain": [
       "<Figure size 432x288 with 1 Axes>"
      ]
     },
     "metadata": {
      "needs_background": "light"
     },
     "output_type": "display_data"
    }
   ],
   "source": [
    "sns.countplot(x='malignant',data=df)\n",
    "print(df['malignant'].value_counts())"
   ]
  },
  {
   "cell_type": "code",
   "execution_count": 20,
   "metadata": {},
   "outputs": [
    {
     "name": "stdout",
     "output_type": "stream",
     "text": [
      "0    157976\n",
      "1      1595\n",
      "Name: highly_malignant, dtype: int64\n"
     ]
    },
    {
     "data": {
      "image/png": "[encoded data removed]",
      "text/plain": [
       "<Figure size 432x288 with 1 Axes>"
      ]
     },
     "metadata": {
      "needs_background": "light"
     },
     "output_type": "display_data"
    }
   ],
   "source": [
    "sns.countplot(x='highly_malignant',data=df)\n",
    "print(df['highly_malignant'].value_counts())"
   ]
  },
  {
   "cell_type": "code",
   "execution_count": 21,
   "metadata": {},
   "outputs": [
    {
     "name": "stdout",
     "output_type": "stream",
     "text": [
      "0    151122\n",
      "1      8449\n",
      "Name: rude, dtype: int64\n"
     ]
    },
    {
     "data": {
      "image/png": "[encoded data removed]",
      "text/plain": [
       "<Figure size 432x288 with 1 Axes>"
      ]
     },
     "metadata": {
      "needs_background": "light"
     },
     "output_type": "display_data"
    }
   ],
   "source": [
    "sns.countplot(x='rude',data=df)\n",
    "print(df['rude'].value_counts())"
   ]
  },
  {
   "cell_type": "code",
   "execution_count": 22,
   "metadata": {},
   "outputs": [
    {
     "name": "stdout",
     "output_type": "stream",
     "text": [
      "0    159093\n",
      "1       478\n",
      "Name: threat, dtype: int64\n"
     ]
    },
    {
     "data": {
      "image/png": "[encoded data removed]",
      "text/plain": [
       "<Figure size 432x288 with 1 Axes>"
      ]
     },
     "metadata": {
      "needs_background": "light"
     },
     "output_type": "display_data"
    }
   ],
   "source": [
    "sns.countplot(x='threat',data=df)\n",
    "print(df['threat'].value_counts())"
   ]
  },
  {
   "cell_type": "code",
   "execution_count": 23,
   "metadata": {},
   "outputs": [
    {
     "name": "stdout",
     "output_type": "stream",
     "text": [
      "0    151694\n",
      "1      7877\n",
      "Name: abuse, dtype: int64\n"
     ]
    },
    {
     "data": {
      "image/png": "[encoded data removed]",
      "text/plain": [
       "<Figure size 432x288 with 1 Axes>"
      ]
     },
     "metadata": {
      "needs_background": "light"
     },
     "output_type": "display_data"
    }
   ],
   "source": [
    "sns.countplot(x='abuse',data=df)\n",
    "print(df['abuse'].value_counts())"
   ]
  },
  {
   "cell_type": "code",
   "execution_count": 24,
   "metadata": {},
   "outputs": [
    {
     "name": "stdout",
     "output_type": "stream",
     "text": [
      "0    158166\n",
      "1      1405\n",
      "Name: loathe, dtype: int64\n"
     ]
    },
    {
     "data": {
      "image/png": "[encoded data removed]",
      "text/plain": [
       "<Figure size 432x288 with 1 Axes>"
      ]
     },
     "metadata": {
      "needs_background": "light"
     },
     "output_type": "display_data"
    }
   ],
   "source": [
    "sns.countplot(x='loathe',data=df)\n",
    "print(df['loathe'].value_counts())"
   ]
  },
  {
   "cell_type": "markdown",
   "metadata": {},
   "source": [
    "# Describing Datasets"
   ]
  },
  {
   "cell_type": "code",
   "execution_count": 25,
   "metadata": {},
   "outputs": [
    {
     "data": {
      "text/html": [
       "<div>\n",
       "<style scoped>\n",
       "    .dataframe tbody tr th:only-of-type {\n",
       "        vertical-align: middle;\n",
       "    }\n",
       "\n",
       "    .dataframe tbody tr th {\n",
       "        vertical-align: top;\n",
       "    }\n",
       "\n",
       "    .dataframe thead th {\n",
       "        text-align: right;\n",
       "    }\n",
       "</style>\n",
       "<table border=\"1\" class=\"dataframe\">\n",
       "  <thead>\n",
       "    <tr style=\"text-align: right;\">\n",
       "      <th></th>\n",
       "      <th>id</th>\n",
       "      <th>comment_text</th>\n",
       "      <th>malignant</th>\n",
       "      <th>highly_malignant</th>\n",
       "      <th>rude</th>\n",
       "      <th>threat</th>\n",
       "      <th>abuse</th>\n",
       "      <th>loathe</th>\n",
       "    </tr>\n",
       "  </thead>\n",
       "  <tbody>\n",
       "    <tr>\n",
       "      <th>count</th>\n",
       "      <td>159571.00000</td>\n",
       "      <td>159571.00000</td>\n",
       "      <td>159571.000000</td>\n",
       "      <td>159571.000000</td>\n",
       "      <td>159571.000000</td>\n",
       "      <td>159571.000000</td>\n",
       "      <td>159571.000000</td>\n",
       "      <td>159571.000000</td>\n",
       "    </tr>\n",
       "    <tr>\n",
       "      <th>mean</th>\n",
       "      <td>79785.00000</td>\n",
       "      <td>79785.00000</td>\n",
       "      <td>0.095844</td>\n",
       "      <td>0.009996</td>\n",
       "      <td>0.052948</td>\n",
       "      <td>0.002996</td>\n",
       "      <td>0.049364</td>\n",
       "      <td>0.008805</td>\n",
       "    </tr>\n",
       "    <tr>\n",
       "      <th>std</th>\n",
       "      <td>46064.32424</td>\n",
       "      <td>46064.32424</td>\n",
       "      <td>0.294379</td>\n",
       "      <td>0.099477</td>\n",
       "      <td>0.223931</td>\n",
       "      <td>0.054650</td>\n",
       "      <td>0.216627</td>\n",
       "      <td>0.093420</td>\n",
       "    </tr>\n",
       "    <tr>\n",
       "      <th>min</th>\n",
       "      <td>0.00000</td>\n",
       "      <td>0.00000</td>\n",
       "      <td>0.000000</td>\n",
       "      <td>0.000000</td>\n",
       "      <td>0.000000</td>\n",
       "      <td>0.000000</td>\n",
       "      <td>0.000000</td>\n",
       "      <td>0.000000</td>\n",
       "    </tr>\n",
       "    <tr>\n",
       "      <th>25%</th>\n",
       "      <td>39892.50000</td>\n",
       "      <td>39892.50000</td>\n",
       "      <td>0.000000</td>\n",
       "      <td>0.000000</td>\n",
       "      <td>0.000000</td>\n",
       "      <td>0.000000</td>\n",
       "      <td>0.000000</td>\n",
       "      <td>0.000000</td>\n",
       "    </tr>\n",
       "    <tr>\n",
       "      <th>50%</th>\n",
       "      <td>79785.00000</td>\n",
       "      <td>79785.00000</td>\n",
       "      <td>0.000000</td>\n",
       "      <td>0.000000</td>\n",
       "      <td>0.000000</td>\n",
       "      <td>0.000000</td>\n",
       "      <td>0.000000</td>\n",
       "      <td>0.000000</td>\n",
       "    </tr>\n",
       "    <tr>\n",
       "      <th>75%</th>\n",
       "      <td>119677.50000</td>\n",
       "      <td>119677.50000</td>\n",
       "      <td>0.000000</td>\n",
       "      <td>0.000000</td>\n",
       "      <td>0.000000</td>\n",
       "      <td>0.000000</td>\n",
       "      <td>0.000000</td>\n",
       "      <td>0.000000</td>\n",
       "    </tr>\n",
       "    <tr>\n",
       "      <th>max</th>\n",
       "      <td>159570.00000</td>\n",
       "      <td>159570.00000</td>\n",
       "      <td>1.000000</td>\n",
       "      <td>1.000000</td>\n",
       "      <td>1.000000</td>\n",
       "      <td>1.000000</td>\n",
       "      <td>1.000000</td>\n",
       "      <td>1.000000</td>\n",
       "    </tr>\n",
       "  </tbody>\n",
       "</table>\n",
       "</div>"
      ],
      "text/plain": [
       "                 id  comment_text      malignant  highly_malignant  \\\n",
       "count  159571.00000  159571.00000  159571.000000     159571.000000   \n",
       "mean    79785.00000   79785.00000       0.095844          0.009996   \n",
       "std     46064.32424   46064.32424       0.294379          0.099477   \n",
       "min         0.00000       0.00000       0.000000          0.000000   \n",
       "25%     39892.50000   39892.50000       0.000000          0.000000   \n",
       "50%     79785.00000   79785.00000       0.000000          0.000000   \n",
       "75%    119677.50000  119677.50000       0.000000          0.000000   \n",
       "max    159570.00000  159570.00000       1.000000          1.000000   \n",
       "\n",
       "                rude         threat          abuse         loathe  \n",
       "count  159571.000000  159571.000000  159571.000000  159571.000000  \n",
       "mean        0.052948       0.002996       0.049364       0.008805  \n",
       "std         0.223931       0.054650       0.216627       0.093420  \n",
       "min         0.000000       0.000000       0.000000       0.000000  \n",
       "25%         0.000000       0.000000       0.000000       0.000000  \n",
       "50%         0.000000       0.000000       0.000000       0.000000  \n",
       "75%         0.000000       0.000000       0.000000       0.000000  \n",
       "max         1.000000       1.000000       1.000000       1.000000  "
      ]
     },
     "execution_count": 25,
     "metadata": {},
     "output_type": "execute_result"
    }
   ],
   "source": [
    "df.describe()"
   ]
  },
  {
   "cell_type": "code",
   "execution_count": 26,
   "metadata": {},
   "outputs": [
    {
     "data": {
      "text/plain": [
       "<AxesSubplot:>"
      ]
     },
     "execution_count": 26,
     "metadata": {},
     "output_type": "execute_result"
    },
    {
     "data": {
      "image/png": "[encoded data removed]",
      "text/plain": [
       "<Figure size 1584x504 with 2 Axes>"
      ]
     },
     "metadata": {
      "needs_background": "light"
     },
     "output_type": "display_data"
    }
   ],
   "source": [
    "plt.figure(figsize=(22,7))\n",
    "sns.heatmap(df.describe(),annot=True,linewidth=0.2,linecolor='black',fmt='0.2f')"
   ]
  },
  {
   "cell_type": "code",
   "execution_count": 27,
   "metadata": {},
   "outputs": [
    {
     "data": {
      "text/html": [
       "<div>\n",
       "<style scoped>\n",
       "    .dataframe tbody tr th:only-of-type {\n",
       "        vertical-align: middle;\n",
       "    }\n",
       "\n",
       "    .dataframe tbody tr th {\n",
       "        vertical-align: top;\n",
       "    }\n",
       "\n",
       "    .dataframe thead th {\n",
       "        text-align: right;\n",
       "    }\n",
       "</style>\n",
       "<table border=\"1\" class=\"dataframe\">\n",
       "  <thead>\n",
       "    <tr style=\"text-align: right;\">\n",
       "      <th></th>\n",
       "      <th>id</th>\n",
       "      <th>comment_text</th>\n",
       "      <th>malignant</th>\n",
       "      <th>highly_malignant</th>\n",
       "      <th>rude</th>\n",
       "      <th>threat</th>\n",
       "      <th>abuse</th>\n",
       "      <th>loathe</th>\n",
       "    </tr>\n",
       "  </thead>\n",
       "  <tbody>\n",
       "    <tr>\n",
       "      <th>id</th>\n",
       "      <td>1.000000</td>\n",
       "      <td>0.002812</td>\n",
       "      <td>-0.003263</td>\n",
       "      <td>-0.001403</td>\n",
       "      <td>-0.002188</td>\n",
       "      <td>-0.001165</td>\n",
       "      <td>-0.002086</td>\n",
       "      <td>-0.000844</td>\n",
       "    </tr>\n",
       "    <tr>\n",
       "      <th>comment_text</th>\n",
       "      <td>0.002812</td>\n",
       "      <td>1.000000</td>\n",
       "      <td>0.132016</td>\n",
       "      <td>0.057627</td>\n",
       "      <td>0.104020</td>\n",
       "      <td>0.026093</td>\n",
       "      <td>0.111724</td>\n",
       "      <td>0.046234</td>\n",
       "    </tr>\n",
       "    <tr>\n",
       "      <th>malignant</th>\n",
       "      <td>-0.003263</td>\n",
       "      <td>0.132016</td>\n",
       "      <td>1.000000</td>\n",
       "      <td>0.308619</td>\n",
       "      <td>0.676515</td>\n",
       "      <td>0.157058</td>\n",
       "      <td>0.647518</td>\n",
       "      <td>0.266009</td>\n",
       "    </tr>\n",
       "    <tr>\n",
       "      <th>highly_malignant</th>\n",
       "      <td>-0.001403</td>\n",
       "      <td>0.057627</td>\n",
       "      <td>0.308619</td>\n",
       "      <td>1.000000</td>\n",
       "      <td>0.403014</td>\n",
       "      <td>0.123601</td>\n",
       "      <td>0.375807</td>\n",
       "      <td>0.201600</td>\n",
       "    </tr>\n",
       "    <tr>\n",
       "      <th>rude</th>\n",
       "      <td>-0.002188</td>\n",
       "      <td>0.104020</td>\n",
       "      <td>0.676515</td>\n",
       "      <td>0.403014</td>\n",
       "      <td>1.000000</td>\n",
       "      <td>0.141179</td>\n",
       "      <td>0.741272</td>\n",
       "      <td>0.286867</td>\n",
       "    </tr>\n",
       "    <tr>\n",
       "      <th>threat</th>\n",
       "      <td>-0.001165</td>\n",
       "      <td>0.026093</td>\n",
       "      <td>0.157058</td>\n",
       "      <td>0.123601</td>\n",
       "      <td>0.141179</td>\n",
       "      <td>1.000000</td>\n",
       "      <td>0.150022</td>\n",
       "      <td>0.115128</td>\n",
       "    </tr>\n",
       "    <tr>\n",
       "      <th>abuse</th>\n",
       "      <td>-0.002086</td>\n",
       "      <td>0.111724</td>\n",
       "      <td>0.647518</td>\n",
       "      <td>0.375807</td>\n",
       "      <td>0.741272</td>\n",
       "      <td>0.150022</td>\n",
       "      <td>1.000000</td>\n",
       "      <td>0.337736</td>\n",
       "    </tr>\n",
       "    <tr>\n",
       "      <th>loathe</th>\n",
       "      <td>-0.000844</td>\n",
       "      <td>0.046234</td>\n",
       "      <td>0.266009</td>\n",
       "      <td>0.201600</td>\n",
       "      <td>0.286867</td>\n",
       "      <td>0.115128</td>\n",
       "      <td>0.337736</td>\n",
       "      <td>1.000000</td>\n",
       "    </tr>\n",
       "  </tbody>\n",
       "</table>\n",
       "</div>"
      ],
      "text/plain": [
       "                        id  comment_text  malignant  highly_malignant  \\\n",
       "id                1.000000      0.002812  -0.003263         -0.001403   \n",
       "comment_text      0.002812      1.000000   0.132016          0.057627   \n",
       "malignant        -0.003263      0.132016   1.000000          0.308619   \n",
       "highly_malignant -0.001403      0.057627   0.308619          1.000000   \n",
       "rude             -0.002188      0.104020   0.676515          0.403014   \n",
       "threat           -0.001165      0.026093   0.157058          0.123601   \n",
       "abuse            -0.002086      0.111724   0.647518          0.375807   \n",
       "loathe           -0.000844      0.046234   0.266009          0.201600   \n",
       "\n",
       "                      rude    threat     abuse    loathe  \n",
       "id               -0.002188 -0.001165 -0.002086 -0.000844  \n",
       "comment_text      0.104020  0.026093  0.111724  0.046234  \n",
       "malignant         0.676515  0.157058  0.647518  0.266009  \n",
       "highly_malignant  0.403014  0.123601  0.375807  0.201600  \n",
       "rude              1.000000  0.141179  0.741272  0.286867  \n",
       "threat            0.141179  1.000000  0.150022  0.115128  \n",
       "abuse             0.741272  0.150022  1.000000  0.337736  \n",
       "loathe            0.286867  0.115128  0.337736  1.000000  "
      ]
     },
     "execution_count": 27,
     "metadata": {},
     "output_type": "execute_result"
    }
   ],
   "source": [
    "df.corr()"
   ]
  },
  {
   "cell_type": "code",
   "execution_count": 28,
   "metadata": {},
   "outputs": [
    {
     "data": {
      "text/plain": [
       "<AxesSubplot:>"
      ]
     },
     "execution_count": 28,
     "metadata": {},
     "output_type": "execute_result"
    },
    {
     "data": {
      "image/png": "[encoded data removed]",
      "text/plain": [
       "<Figure size 1584x504 with 2 Axes>"
      ]
     },
     "metadata": {
      "needs_background": "light"
     },
     "output_type": "display_data"
    }
   ],
   "source": [
    "plt.figure(figsize=(22,7))\n",
    "sns.heatmap(df.corr(),annot=True,linewidth=0.2,linecolor='black',fmt='0.2f')"
   ]
  },
  {
   "cell_type": "code",
   "execution_count": 29,
   "metadata": {},
   "outputs": [
    {
     "data": {
      "text/html": [
       "<div>\n",
       "<style scoped>\n",
       "    .dataframe tbody tr th:only-of-type {\n",
       "        vertical-align: middle;\n",
       "    }\n",
       "\n",
       "    .dataframe tbody tr th {\n",
       "        vertical-align: top;\n",
       "    }\n",
       "\n",
       "    .dataframe thead th {\n",
       "        text-align: right;\n",
       "    }\n",
       "</style>\n",
       "<table border=\"1\" class=\"dataframe\">\n",
       "  <thead>\n",
       "    <tr style=\"text-align: right;\">\n",
       "      <th></th>\n",
       "      <th>id</th>\n",
       "      <th>comment_text</th>\n",
       "    </tr>\n",
       "  </thead>\n",
       "  <tbody>\n",
       "    <tr>\n",
       "      <th>count</th>\n",
       "      <td>153164.000000</td>\n",
       "      <td>153164.000000</td>\n",
       "    </tr>\n",
       "    <tr>\n",
       "      <th>mean</th>\n",
       "      <td>76581.500000</td>\n",
       "      <td>76581.500000</td>\n",
       "    </tr>\n",
       "    <tr>\n",
       "      <th>std</th>\n",
       "      <td>44214.782652</td>\n",
       "      <td>44214.782652</td>\n",
       "    </tr>\n",
       "    <tr>\n",
       "      <th>min</th>\n",
       "      <td>0.000000</td>\n",
       "      <td>0.000000</td>\n",
       "    </tr>\n",
       "    <tr>\n",
       "      <th>25%</th>\n",
       "      <td>38290.750000</td>\n",
       "      <td>38290.750000</td>\n",
       "    </tr>\n",
       "    <tr>\n",
       "      <th>50%</th>\n",
       "      <td>76581.500000</td>\n",
       "      <td>76581.500000</td>\n",
       "    </tr>\n",
       "    <tr>\n",
       "      <th>75%</th>\n",
       "      <td>114872.250000</td>\n",
       "      <td>114872.250000</td>\n",
       "    </tr>\n",
       "    <tr>\n",
       "      <th>max</th>\n",
       "      <td>153163.000000</td>\n",
       "      <td>153163.000000</td>\n",
       "    </tr>\n",
       "  </tbody>\n",
       "</table>\n",
       "</div>"
      ],
      "text/plain": [
       "                  id   comment_text\n",
       "count  153164.000000  153164.000000\n",
       "mean    76581.500000   76581.500000\n",
       "std     44214.782652   44214.782652\n",
       "min         0.000000       0.000000\n",
       "25%     38290.750000   38290.750000\n",
       "50%     76581.500000   76581.500000\n",
       "75%    114872.250000  114872.250000\n",
       "max    153163.000000  153163.000000"
      ]
     },
     "execution_count": 29,
     "metadata": {},
     "output_type": "execute_result"
    }
   ],
   "source": [
    "df1.describe()"
   ]
  },
  {
   "cell_type": "code",
   "execution_count": 30,
   "metadata": {},
   "outputs": [
    {
     "data": {
      "text/plain": [
       "<AxesSubplot:>"
      ]
     },
     "execution_count": 30,
     "metadata": {},
     "output_type": "execute_result"
    },
    {
     "data": {
      "image/png": "[encoded data removed]",
      "text/plain": [
       "<Figure size 1584x504 with 2 Axes>"
      ]
     },
     "metadata": {
      "needs_background": "light"
     },
     "output_type": "display_data"
    }
   ],
   "source": [
    "plt.figure(figsize=(22,7))\n",
    "sns.heatmap(df1.describe(),annot=True,linewidth=0.2,linecolor='black',fmt='0.2f')"
   ]
  },
  {
   "cell_type": "code",
   "execution_count": 31,
   "metadata": {},
   "outputs": [
    {
     "data": {
      "text/html": [
       "<div>\n",
       "<style scoped>\n",
       "    .dataframe tbody tr th:only-of-type {\n",
       "        vertical-align: middle;\n",
       "    }\n",
       "\n",
       "    .dataframe tbody tr th {\n",
       "        vertical-align: top;\n",
       "    }\n",
       "\n",
       "    .dataframe thead th {\n",
       "        text-align: right;\n",
       "    }\n",
       "</style>\n",
       "<table border=\"1\" class=\"dataframe\">\n",
       "  <thead>\n",
       "    <tr style=\"text-align: right;\">\n",
       "      <th></th>\n",
       "      <th>id</th>\n",
       "      <th>comment_text</th>\n",
       "    </tr>\n",
       "  </thead>\n",
       "  <tbody>\n",
       "    <tr>\n",
       "      <th>id</th>\n",
       "      <td>1.00000</td>\n",
       "      <td>-0.00202</td>\n",
       "    </tr>\n",
       "    <tr>\n",
       "      <th>comment_text</th>\n",
       "      <td>-0.00202</td>\n",
       "      <td>1.00000</td>\n",
       "    </tr>\n",
       "  </tbody>\n",
       "</table>\n",
       "</div>"
      ],
      "text/plain": [
       "                   id  comment_text\n",
       "id            1.00000      -0.00202\n",
       "comment_text -0.00202       1.00000"
      ]
     },
     "execution_count": 31,
     "metadata": {},
     "output_type": "execute_result"
    }
   ],
   "source": [
    "df1.corr()"
   ]
  },
  {
   "cell_type": "code",
   "execution_count": 32,
   "metadata": {},
   "outputs": [
    {
     "data": {
      "text/plain": [
       "<AxesSubplot:>"
      ]
     },
     "execution_count": 32,
     "metadata": {},
     "output_type": "execute_result"
    },
    {
     "data": {
      "image/png": "[encoded data removed]",
      "text/plain": [
       "<Figure size 1584x504 with 2 Axes>"
      ]
     },
     "metadata": {
      "needs_background": "light"
     },
     "output_type": "display_data"
    }
   ],
   "source": [
    "plt.figure(figsize=(22,7))\n",
    "sns.heatmap(df1.corr(),annot=True,linewidth=0.2,linecolor='black',fmt='0.2f')"
   ]
  },
  {
   "cell_type": "markdown",
   "metadata": {},
   "source": [
    "# Outliers Checking"
   ]
  },
  {
   "cell_type": "code",
   "execution_count": 33,
   "metadata": {},
   "outputs": [
    {
     "data": {
      "text/plain": [
       "id                  7.386055e-17\n",
       "comment_text        1.282301e-19\n",
       "malignant           2.745854e+00\n",
       "highly_malignant    9.851722e+00\n",
       "rude                3.992817e+00\n",
       "threat              1.818900e+01\n",
       "abuse               4.160540e+00\n",
       "loathe              1.051592e+01\n",
       "dtype: float64"
      ]
     },
     "execution_count": 33,
     "metadata": {},
     "output_type": "execute_result"
    }
   ],
   "source": [
    "df.skew()"
   ]
  },
  {
   "cell_type": "code",
   "execution_count": 34,
   "metadata": {},
   "outputs": [
    {
     "data": {
      "text/plain": [
       "id              0.000000e+00\n",
       "comment_text    1.510704e-18\n",
       "dtype: float64"
      ]
     },
     "execution_count": 34,
     "metadata": {},
     "output_type": "execute_result"
    }
   ],
   "source": [
    "df1.skew()"
   ]
  },
  {
   "cell_type": "code",
   "execution_count": 35,
   "metadata": {},
   "outputs": [],
   "source": [
    "df1=df1.drop('id',axis=1)"
   ]
  },
  {
   "cell_type": "code",
   "execution_count": 36,
   "metadata": {},
   "outputs": [
    {
     "data": {
      "text/plain": [
       "comment_text    1.510704e-18\n",
       "dtype: float64"
      ]
     },
     "execution_count": 36,
     "metadata": {},
     "output_type": "execute_result"
    }
   ],
   "source": [
    "df1.skew()"
   ]
  },
  {
   "cell_type": "code",
   "execution_count": 37,
   "metadata": {},
   "outputs": [
    {
     "data": {
      "text/plain": [
       "<AxesSubplot:>"
      ]
     },
     "execution_count": 37,
     "metadata": {},
     "output_type": "execute_result"
    },
    {
     "data": {
      "image/png": "[encoded data removed]",
      "text/plain": [
       "<Figure size 432x288 with 1 Axes>"
      ]
     },
     "metadata": {
      "needs_background": "light"
     },
     "output_type": "display_data"
    }
   ],
   "source": [
    "df['id'].plot.box()"
   ]
  },
  {
   "cell_type": "code",
   "execution_count": 38,
   "metadata": {},
   "outputs": [
    {
     "data": {
      "text/plain": [
       "<AxesSubplot:>"
      ]
     },
     "execution_count": 38,
     "metadata": {},
     "output_type": "execute_result"
    },
    {
     "data": {
      "image/png": "[encoded data removed]",
      "text/plain": [
       "<Figure size 432x288 with 1 Axes>"
      ]
     },
     "metadata": {
      "needs_background": "light"
     },
     "output_type": "display_data"
    }
   ],
   "source": [
    "df['highly_malignant'].plot.box()"
   ]
  },
  {
   "cell_type": "code",
   "execution_count": 39,
   "metadata": {},
   "outputs": [
    {
     "data": {
      "text/plain": [
       "<AxesSubplot:>"
      ]
     },
     "execution_count": 39,
     "metadata": {},
     "output_type": "execute_result"
    },
    {
     "data": {
      "image/png": "[encoded data removed]",
      "text/plain": [
       "<Figure size 432x288 with 1 Axes>"
      ]
     },
     "metadata": {
      "needs_background": "light"
     },
     "output_type": "display_data"
    }
   ],
   "source": [
    "df['malignant'].plot.box()"
   ]
  },
  {
   "cell_type": "code",
   "execution_count": 40,
   "metadata": {},
   "outputs": [
    {
     "data": {
      "text/plain": [
       "<AxesSubplot:>"
      ]
     },
     "execution_count": 40,
     "metadata": {},
     "output_type": "execute_result"
    },
    {
     "data": {
      "image/png": "[encoded data removed]",
      "text/plain": [
       "<Figure size 432x288 with 1 Axes>"
      ]
     },
     "metadata": {
      "needs_background": "light"
     },
     "output_type": "display_data"
    }
   ],
   "source": [
    "df['rude'].plot.box()"
   ]
  },
  {
   "cell_type": "code",
   "execution_count": 41,
   "metadata": {},
   "outputs": [
    {
     "data": {
      "text/plain": [
       "<AxesSubplot:>"
      ]
     },
     "execution_count": 41,
     "metadata": {},
     "output_type": "execute_result"
    },
    {
     "data": {
      "image/png": "[encoded data removed]",
      "text/plain": [
       "<Figure size 432x288 with 1 Axes>"
      ]
     },
     "metadata": {
      "needs_background": "light"
     },
     "output_type": "display_data"
    }
   ],
   "source": [
    "df['abuse'].plot.box()"
   ]
  },
  {
   "cell_type": "code",
   "execution_count": 42,
   "metadata": {},
   "outputs": [
    {
     "data": {
      "text/plain": [
       "<AxesSubplot:>"
      ]
     },
     "execution_count": 42,
     "metadata": {},
     "output_type": "execute_result"
    },
    {
     "data": {
      "image/png": "[encoded data removed]",
      "text/plain": [
       "<Figure size 432x288 with 1 Axes>"
      ]
     },
     "metadata": {
      "needs_background": "light"
     },
     "output_type": "display_data"
    }
   ],
   "source": [
    "df['threat'].plot.box()"
   ]
  },
  {
   "cell_type": "code",
   "execution_count": 43,
   "metadata": {},
   "outputs": [
    {
     "data": {
      "text/plain": [
       "<AxesSubplot:>"
      ]
     },
     "execution_count": 43,
     "metadata": {},
     "output_type": "execute_result"
    },
    {
     "data": {
      "image/png": "[encoded data removed]",
      "text/plain": [
       "<Figure size 432x288 with 1 Axes>"
      ]
     },
     "metadata": {
      "needs_background": "light"
     },
     "output_type": "display_data"
    }
   ],
   "source": [
    "df['loathe'].plot.box()"
   ]
  },
  {
   "cell_type": "code",
   "execution_count": 44,
   "metadata": {},
   "outputs": [
    {
     "data": {
      "text/plain": [
       "<AxesSubplot:>"
      ]
     },
     "execution_count": 44,
     "metadata": {},
     "output_type": "execute_result"
    },
    {
     "data": {
      "image/png": "[encoded data removed]",
      "text/plain": [
       "<Figure size 432x288 with 1 Axes>"
      ]
     },
     "metadata": {
      "needs_background": "light"
     },
     "output_type": "display_data"
    }
   ],
   "source": [
    "df['comment_text'].plot.box()"
   ]
  },
  {
   "cell_type": "code",
   "execution_count": 45,
   "metadata": {},
   "outputs": [
    {
     "data": {
      "text/plain": [
       "<AxesSubplot:>"
      ]
     },
     "execution_count": 45,
     "metadata": {},
     "output_type": "execute_result"
    },
    {
     "data": {
      "image/png": "[encoded data removed]",
      "text/plain": [
       "<Figure size 432x288 with 1 Axes>"
      ]
     },
     "metadata": {
      "needs_background": "light"
     },
     "output_type": "display_data"
    }
   ],
   "source": [
    "df1['comment_text'].plot.box()"
   ]
  },
  {
   "cell_type": "code",
   "execution_count": 46,
   "metadata": {},
   "outputs": [
    {
     "data": {
      "text/plain": [
       "(159571, 8)"
      ]
     },
     "execution_count": 46,
     "metadata": {},
     "output_type": "execute_result"
    }
   ],
   "source": [
    "df.shape"
   ]
  },
  {
   "cell_type": "code",
   "execution_count": 47,
   "metadata": {},
   "outputs": [
    {
     "data": {
      "text/plain": [
       "(153164, 1)"
      ]
     },
     "execution_count": 47,
     "metadata": {},
     "output_type": "execute_result"
    }
   ],
   "source": [
    "df1.shape"
   ]
  },
  {
   "cell_type": "markdown",
   "metadata": {},
   "source": [
    "# Separating x and y"
   ]
  },
  {
   "cell_type": "code",
   "execution_count": 48,
   "metadata": {},
   "outputs": [],
   "source": [
    "x=df.drop('malignant',axis=1)\n",
    "y=df['malignant']"
   ]
  },
  {
   "cell_type": "code",
   "execution_count": 49,
   "metadata": {},
   "outputs": [],
   "source": [
    "from sklearn.preprocessing import power_transform"
   ]
  },
  {
   "cell_type": "code",
   "execution_count": 50,
   "metadata": {},
   "outputs": [
    {
     "data": {
      "text/plain": [
       "array([[-2.1965229 , -0.04590477, -0.10048119, ..., -0.05481361,\n",
       "        -0.22787476, -0.09425005],\n",
       "       [-2.19602627, -0.13752042, -0.10048119, ..., -0.05481361,\n",
       "        -0.22787476, -0.09425005],\n",
       "       [-2.19560067,  0.09647909, -0.10048119, ..., -0.05481361,\n",
       "        -0.22787476, -0.09425005],\n",
       "       ...,\n",
       "       [ 1.55302692,  0.90884561, -0.10048119, ..., -0.05481361,\n",
       "        -0.22787476, -0.09425005],\n",
       "       [ 1.55320978, -0.31817882, -0.10048119, ..., -0.05481361,\n",
       "        -0.22787476, -0.09425005],\n",
       "       [ 1.55330953, -1.01693553, -0.10048119, ..., -0.05481361,\n",
       "        -0.22787476, -0.09425005]])"
      ]
     },
     "execution_count": 50,
     "metadata": {},
     "output_type": "execute_result"
    }
   ],
   "source": [
    "x=power_transform(x,method='yeo-johnson')\n",
    "x"
   ]
  },
  {
   "cell_type": "markdown",
   "metadata": {},
   "source": [
    "# Scaling Dataset"
   ]
  },
  {
   "cell_type": "code",
   "execution_count": 52,
   "metadata": {},
   "outputs": [
    {
     "data": {
      "text/plain": [
       "array([[-2.1965229 , -0.04590477, -0.10048119, ..., -0.05481361,\n",
       "        -0.22787476, -0.09425005],\n",
       "       [-2.19602627, -0.13752042, -0.10048119, ..., -0.05481361,\n",
       "        -0.22787476, -0.09425005],\n",
       "       [-2.19560067,  0.09647909, -0.10048119, ..., -0.05481361,\n",
       "        -0.22787476, -0.09425005],\n",
       "       ...,\n",
       "       [ 1.55302692,  0.90884561, -0.10048119, ..., -0.05481361,\n",
       "        -0.22787476, -0.09425005],\n",
       "       [ 1.55320978, -0.31817882, -0.10048119, ..., -0.05481361,\n",
       "        -0.22787476, -0.09425005],\n",
       "       [ 1.55330953, -1.01693553, -0.10048119, ..., -0.05481361,\n",
       "        -0.22787476, -0.09425005]])"
      ]
     },
     "execution_count": 52,
     "metadata": {},
     "output_type": "execute_result"
    }
   ],
   "source": [
    "from sklearn.preprocessing import StandardScaler\n",
    "sc=StandardScaler()\n",
    "x=sc.fit_transform(x)\n",
    "x"
   ]
  },
  {
   "cell_type": "code",
   "execution_count": 53,
   "metadata": {},
   "outputs": [],
   "source": [
    "train=df\n",
    "test=df1"
   ]
  },
  {
   "cell_type": "markdown",
   "metadata": {},
   "source": [
    "# Model building"
   ]
  },
  {
   "cell_type": "code",
   "execution_count": 54,
   "metadata": {},
   "outputs": [],
   "source": [
    "from sklearn.linear_model import LogisticRegression\n",
    "lr=LogisticRegression()\n",
    "from sklearn.metrics import accuracy_score\n",
    "from sklearn.model_selection import train_test_split\n",
    "import warnings\n",
    "warnings.filterwarnings('ignore')"
   ]
  },
  {
   "cell_type": "code",
   "execution_count": 55,
   "metadata": {},
   "outputs": [
    {
     "name": "stdout",
     "output_type": "stream",
     "text": [
      "At random state  4 The Model perform very well\n",
      "At random state :- 4\n",
      "Training r2_score is :- 95.83966978057788\n",
      "Testing r2_score is :- 95.79374827664002\n",
      "At random state  5 The Model perform very well\n",
      "At random state :- 5\n",
      "Training r2_score is :- 95.82295827136149\n",
      "Testing r2_score is :- 95.83134885819568\n",
      "At random state  11 The Model perform very well\n",
      "At random state :- 11\n",
      "Training r2_score is :- 95.82713614866559\n",
      "Testing r2_score is :- 95.8438823853809\n",
      "At random state  12 The Model perform very well\n",
      "At random state :- 12\n",
      "Training r2_score is :- 95.84969668610772\n",
      "Testing r2_score is :- 95.75113428421027\n",
      "At random state  17 The Model perform very well\n",
      "At random state :- 17\n",
      "Training r2_score is :- 95.81961596951821\n",
      "Testing r2_score is :- 95.84638909081794\n",
      "At random state  20 The Model perform very well\n",
      "At random state :- 20\n",
      "Training r2_score is :- 95.83382075235215\n",
      "Testing r2_score is :- 95.80126839295114\n",
      "At random state  22 The Model perform very well\n",
      "At random state :- 22\n",
      "Training r2_score is :- 95.84134093149952\n",
      "Testing r2_score is :- 95.77369463314366\n",
      "At random state  23 The Model perform very well\n",
      "At random state :- 23\n",
      "Training r2_score is :- 95.83047845050886\n",
      "Testing r2_score is :- 95.7762013385807\n",
      "At random state  25 The Model perform very well\n",
      "At random state :- 25\n",
      "Training r2_score is :- 95.82462942228312\n",
      "Testing r2_score is :- 95.81881533101046\n",
      "At random state  30 The Model perform very well\n",
      "At random state :- 30\n",
      "Training r2_score is :- 95.82713614866559\n",
      "Testing r2_score is :- 95.81881533101046\n",
      "At random state  32 The Model perform very well\n",
      "At random state :- 32\n",
      "Training r2_score is :- 95.84551880880362\n",
      "Testing r2_score is :- 95.78873486576592\n",
      "At random state  35 The Model perform very well\n",
      "At random state :- 35\n",
      "Training r2_score is :- 95.82880729958723\n",
      "Testing r2_score is :- 95.81630862557341\n",
      "At random state  36 The Model perform very well\n",
      "At random state :- 36\n",
      "Training r2_score is :- 95.84551880880362\n",
      "Testing r2_score is :- 95.83636226906977\n",
      "At random state  40 The Model perform very well\n",
      "At random state :- 40\n",
      "Training r2_score is :- 95.83883420511707\n",
      "Testing r2_score is :- 95.77870804401775\n",
      "At random state  41 The Model perform very well\n",
      "At random state :- 41\n",
      "Training r2_score is :- 95.81794481859657\n",
      "Testing r2_score is :- 95.82884215275863\n",
      "At random state  44 The Model perform very well\n",
      "At random state :- 44\n",
      "Training r2_score is :- 95.83465632781297\n",
      "Testing r2_score is :- 95.84137567994385\n",
      "At random state  46 The Model perform very well\n",
      "At random state :- 46\n",
      "Training r2_score is :- 95.8363274787346\n",
      "Testing r2_score is :- 95.76868122226956\n",
      "At random state  48 The Model perform very well\n",
      "At random state :- 48\n",
      "Training r2_score is :- 95.8363274787346\n",
      "Testing r2_score is :- 95.77870804401775\n",
      "At random state  49 The Model perform very well\n",
      "At random state :- 49\n",
      "Training r2_score is :- 95.82212269590067\n",
      "Testing r2_score is :- 95.83385556363272\n",
      "At random state  50 The Model perform very well\n",
      "At random state :- 50\n",
      "Training r2_score is :- 95.80875348852756\n",
      "Testing r2_score is :- 95.7987616875141\n",
      "At random state  54 The Model perform very well\n",
      "At random state :- 54\n",
      "Training r2_score is :- 95.83549190327378\n",
      "Testing r2_score is :- 95.81630862557341\n",
      "At random state  59 The Model perform very well\n",
      "At random state :- 59\n",
      "Training r2_score is :- 95.84468323334279\n",
      "Testing r2_score is :- 95.78622816032887\n",
      "At random state  62 The Model perform very well\n",
      "At random state :- 62\n",
      "Training r2_score is :- 95.84134093149952\n",
      "Testing r2_score is :- 95.82884215275863\n",
      "At random state  66 The Model perform very well\n",
      "At random state :- 66\n",
      "Training r2_score is :- 95.84969668610772\n",
      "Testing r2_score is :- 95.79124157120297\n",
      "At random state  67 The Model perform very well\n",
      "At random state :- 67\n",
      "Training r2_score is :- 95.82462942228312\n",
      "Testing r2_score is :- 95.81380192013637\n",
      "At random state  68 The Model perform very well\n",
      "At random state :- 68\n",
      "Training r2_score is :- 95.82212269590067\n",
      "Testing r2_score is :- 95.83886897450681\n",
      "At random state  69 The Model perform very well\n",
      "At random state :- 69\n",
      "Training r2_score is :- 95.8321496014305\n",
      "Testing r2_score is :- 95.8213220364475\n",
      "At random state  74 The Model perform very well\n",
      "At random state :- 74\n",
      "Training r2_score is :- 95.82713614866559\n",
      "Testing r2_score is :- 95.8438823853809\n",
      "At random state  75 The Model perform very well\n",
      "At random state :- 75\n",
      "Training r2_score is :- 95.82880729958723\n",
      "Testing r2_score is :- 95.84638909081794\n",
      "At random state  78 The Model perform very well\n",
      "At random state :- 78\n",
      "Training r2_score is :- 95.83298517689133\n",
      "Testing r2_score is :- 95.83636226906977\n",
      "At random state  80 The Model perform very well\n",
      "At random state :- 80\n",
      "Training r2_score is :- 95.84301208242117\n",
      "Testing r2_score is :- 95.80628180382523\n",
      "At random state  82 The Model perform very well\n",
      "At random state :- 82\n",
      "Training r2_score is :- 95.82045154497902\n",
      "Testing r2_score is :- 95.80628180382523\n",
      "At random state  85 The Model perform very well\n",
      "At random state :- 85\n",
      "Training r2_score is :- 95.82128712043985\n",
      "Testing r2_score is :- 95.82884215275863\n",
      "At random state  87 The Model perform very well\n",
      "At random state :- 87\n",
      "Training r2_score is :- 95.84635438426444\n",
      "Testing r2_score is :- 95.82633544732158\n",
      "At random state  89 The Model perform very well\n",
      "At random state :- 89\n",
      "Training r2_score is :- 95.8237938468223\n",
      "Testing r2_score is :- 95.8213220364475\n",
      "At random state  95 The Model perform very well\n",
      "At random state :- 95\n",
      "Training r2_score is :- 95.84551880880362\n",
      "Testing r2_score is :- 95.81630862557341\n",
      "At random state  97 The Model perform very well\n",
      "At random state :- 97\n",
      "Training r2_score is :- 95.82212269590067\n",
      "Testing r2_score is :- 95.84137567994385\n",
      "At random state  98 The Model perform very well\n",
      "At random state :- 98\n",
      "Training r2_score is :- 95.83716305419543\n",
      "Testing r2_score is :- 95.7762013385807\n",
      "At random state  99 The Model perform very well\n",
      "At random state :- 99\n",
      "Training r2_score is :- 95.82128712043985\n",
      "Testing r2_score is :- 95.84638909081794\n",
      "At random state  100 The Model perform very well\n",
      "At random state :- 100\n",
      "Training r2_score is :- 95.84635438426444\n",
      "Testing r2_score is :- 95.81129521469933\n",
      "At random state  102 The Model perform very well\n",
      "At random state :- 102\n",
      "Training r2_score is :- 95.81460251675328\n",
      "Testing r2_score is :- 95.84889579625498\n",
      "At random state  103 The Model perform very well\n",
      "At random state :- 103\n",
      "Training r2_score is :- 95.84134093149952\n",
      "Testing r2_score is :- 95.79374827664002\n",
      "At random state  105 The Model perform very well\n",
      "At random state :- 105\n",
      "Training r2_score is :- 95.84134093149952\n",
      "Testing r2_score is :- 95.7987616875141\n",
      "At random state  107 The Model perform very well\n",
      "At random state :- 107\n",
      "Training r2_score is :- 95.84134093149952\n",
      "Testing r2_score is :- 95.79124157120297\n",
      "At random state  113 The Model perform very well\n",
      "At random state :- 113\n",
      "Training r2_score is :- 95.84384765788198\n",
      "Testing r2_score is :- 95.80126839295114\n",
      "At random state  114 The Model perform very well\n",
      "At random state :- 114\n",
      "Training r2_score is :- 95.83799862965624\n",
      "Testing r2_score is :- 95.84889579625498\n",
      "At random state  116 The Model perform very well\n",
      "At random state :- 116\n",
      "Training r2_score is :- 95.8279717241264\n",
      "Testing r2_score is :- 95.79124157120297\n",
      "At random state  126 The Model perform very well\n",
      "At random state :- 126\n",
      "Training r2_score is :- 95.8321496014305\n",
      "Testing r2_score is :- 95.81881533101046\n",
      "At random state  130 The Model perform very well\n",
      "At random state :- 130\n",
      "Training r2_score is :- 95.82880729958723\n",
      "Testing r2_score is :- 95.81129521469933\n",
      "At random state  131 The Model perform very well\n",
      "At random state :- 131\n",
      "Training r2_score is :- 95.84718995972527\n",
      "Testing r2_score is :- 95.79625498207706\n",
      "At random state  133 The Model perform very well\n",
      "At random state :- 133\n",
      "Training r2_score is :- 95.83047845050886\n",
      "Testing r2_score is :- 95.80628180382523\n",
      "At random state  139 The Model perform very well\n",
      "At random state :- 139\n",
      "Training r2_score is :- 95.83549190327378\n",
      "Testing r2_score is :- 95.7987616875141\n",
      "At random state  155 The Model perform very well\n",
      "At random state :- 155\n",
      "Training r2_score is :- 95.81543809221411\n",
      "Testing r2_score is :- 95.80628180382523\n",
      "At random state  158 The Model perform very well\n",
      "At random state :- 158\n",
      "Training r2_score is :- 95.83716305419543\n",
      "Testing r2_score is :- 95.79625498207706\n",
      "At random state  160 The Model perform very well\n",
      "At random state :- 160\n",
      "Training r2_score is :- 95.84718995972527\n",
      "Testing r2_score is :- 95.80628180382523\n",
      "At random state  162 The Model perform very well\n",
      "At random state :- 162\n",
      "Training r2_score is :- 95.82295827136149\n",
      "Testing r2_score is :- 95.79374827664002\n",
      "At random state  163 The Model perform very well\n",
      "At random state :- 163\n",
      "Training r2_score is :- 95.82462942228312\n",
      "Testing r2_score is :- 95.79374827664002\n",
      "At random state  166 The Model perform very well\n",
      "At random state :- 166\n",
      "Training r2_score is :- 95.82964287504805\n",
      "Testing r2_score is :- 95.8213220364475\n",
      "At random state  167 The Model perform very well\n",
      "At random state :- 167\n",
      "Training r2_score is :- 95.80541118668427\n",
      "Testing r2_score is :- 95.82884215275863\n",
      "At random state  168 The Model perform very well\n",
      "At random state :- 168\n",
      "Training r2_score is :- 95.8488611106469\n",
      "Testing r2_score is :- 95.77369463314366\n",
      "At random state  172 The Model perform very well\n",
      "At random state :- 172\n",
      "Training r2_score is :- 95.83883420511707\n",
      "Testing r2_score is :- 95.84137567994385\n",
      "At random state  175 The Model perform very well\n",
      "At random state :- 175\n",
      "Training r2_score is :- 95.83465632781297\n",
      "Testing r2_score is :- 95.78622816032887\n",
      "At random state  179 The Model perform very well\n",
      "At random state :- 179\n",
      "Training r2_score is :- 95.81961596951821\n",
      "Testing r2_score is :- 95.82884215275863\n",
      "At random state  180 The Model perform very well\n",
      "At random state :- 180\n",
      "Training r2_score is :- 95.8237938468223\n",
      "Testing r2_score is :- 95.79625498207706\n",
      "At random state  181 The Model perform very well\n",
      "At random state :- 181\n",
      "Training r2_score is :- 95.84217650696034\n",
      "Testing r2_score is :- 95.77118792770662\n",
      "At random state  186 The Model perform very well\n",
      "At random state :- 186\n",
      "Training r2_score is :- 95.84802553518608\n",
      "Testing r2_score is :- 95.80878850926227\n",
      "At random state  188 The Model perform very well\n",
      "At random state :- 188\n",
      "Training r2_score is :- 95.80791791306673\n",
      "Testing r2_score is :- 95.83134885819568\n",
      "At random state  190 The Model perform very well\n",
      "At random state :- 190\n",
      "Training r2_score is :- 95.83716305419543\n",
      "Testing r2_score is :- 95.8438823853809\n",
      "At random state  195 The Model perform very well\n",
      "At random state :- 195\n",
      "Training r2_score is :- 95.8237938468223\n",
      "Testing r2_score is :- 95.75364098964731\n",
      "At random state  197 The Model perform very well\n",
      "At random state :- 197\n",
      "Training r2_score is :- 95.83799862965624\n",
      "Testing r2_score is :- 95.7762013385807\n",
      "At random state  199 The Model perform very well\n",
      "At random state :- 199\n",
      "Training r2_score is :- 95.8237938468223\n",
      "Testing r2_score is :- 95.81129521469933\n",
      "At random state  208 The Model perform very well\n",
      "At random state :- 208\n",
      "Training r2_score is :- 95.81293136583164\n",
      "Testing r2_score is :- 95.82633544732158\n",
      "At random state  211 The Model perform very well\n",
      "At random state :- 211\n",
      "Training r2_score is :- 95.83799862965624\n",
      "Testing r2_score is :- 95.8438823853809\n",
      "At random state  218 The Model perform very well\n",
      "At random state :- 218\n",
      "Training r2_score is :- 95.84134093149952\n",
      "Testing r2_score is :- 95.78622816032887\n",
      "At random state  222 The Model perform very well\n",
      "At random state :- 222\n",
      "Training r2_score is :- 95.82128712043985\n",
      "Testing r2_score is :- 95.84137567994385\n",
      "At random state  225 The Model perform very well\n",
      "At random state :- 225\n",
      "Training r2_score is :- 95.82212269590067\n",
      "Testing r2_score is :- 95.83886897450681\n",
      "At random state  234 The Model perform very well\n",
      "At random state :- 234\n",
      "Training r2_score is :- 95.83966978057788\n",
      "Testing r2_score is :- 95.80377509838819\n",
      "At random state  237 The Model perform very well\n",
      "At random state :- 237\n",
      "Training r2_score is :- 95.84718995972527\n",
      "Testing r2_score is :- 95.77118792770662\n",
      "At random state  239 The Model perform very well\n",
      "At random state :- 239\n",
      "Training r2_score is :- 95.82546499774395\n",
      "Testing r2_score is :- 95.81630862557341\n",
      "At random state  243 The Model perform very well\n",
      "At random state :- 243\n",
      "Training r2_score is :- 95.81126021491\n",
      "Testing r2_score is :- 95.83385556363272\n",
      "At random state  248 The Model perform very well\n",
      "At random state :- 248\n",
      "Training r2_score is :- 95.8363274787346\n",
      "Testing r2_score is :- 95.77870804401775\n",
      "At random state  250 The Model perform very well\n",
      "At random state :- 250\n",
      "Training r2_score is :- 95.81878039405738\n",
      "Testing r2_score is :- 95.83886897450681\n",
      "At random state  253 The Model perform very well\n",
      "At random state :- 253\n",
      "Training r2_score is :- 95.81627366767492\n",
      "Testing r2_score is :- 95.84638909081794\n",
      "At random state  255 The Model perform very well\n",
      "At random state :- 255\n",
      "Training r2_score is :- 95.8237938468223\n",
      "Testing r2_score is :- 95.84137567994385\n",
      "At random state  257 The Model perform very well\n",
      "At random state :- 257\n",
      "Training r2_score is :- 95.82630057320478\n",
      "Testing r2_score is :- 95.83886897450681\n",
      "At random state  259 The Model perform very well\n",
      "At random state :- 259\n",
      "Training r2_score is :- 95.8070823376059\n",
      "Testing r2_score is :- 95.83886897450681\n",
      "At random state  263 The Model perform very well\n",
      "At random state :- 263\n",
      "Training r2_score is :- 95.84134093149952\n",
      "Testing r2_score is :- 95.8213220364475\n",
      "At random state  266 The Model perform very well\n",
      "At random state :- 266\n",
      "Training r2_score is :- 95.81209579037083\n",
      "Testing r2_score is :- 95.80878850926227\n",
      "At random state  268 The Model perform very well\n",
      "At random state :- 268\n",
      "Training r2_score is :- 95.84802553518608\n",
      "Testing r2_score is :- 95.76366781139548\n",
      "At random state  270 The Model perform very well\n",
      "At random state :- 270\n",
      "Training r2_score is :- 95.84969668610772\n",
      "Testing r2_score is :- 95.77870804401775\n",
      "At random state  273 The Model perform very well\n",
      "At random state :- 273\n",
      "Training r2_score is :- 95.82128712043985\n",
      "Testing r2_score is :- 95.84638909081794\n",
      "At random state  274 The Model perform very well\n",
      "At random state :- 274\n",
      "Training r2_score is :- 95.8321496014305\n",
      "Testing r2_score is :- 95.80126839295114\n",
      "At random state  275 The Model perform very well\n",
      "At random state :- 275\n",
      "Training r2_score is :- 95.83716305419543\n",
      "Testing r2_score is :- 95.80878850926227\n",
      "At random state  278 The Model perform very well\n",
      "At random state :- 278\n",
      "Training r2_score is :- 95.8321496014305\n",
      "Testing r2_score is :- 95.84638909081794\n",
      "At random state  282 The Model perform very well\n",
      "At random state :- 282\n",
      "Training r2_score is :- 95.81627366767492\n",
      "Testing r2_score is :- 95.8438823853809\n",
      "At random state  286 The Model perform very well\n",
      "At random state :- 286\n",
      "Training r2_score is :- 95.80958906398837\n",
      "Testing r2_score is :- 95.8213220364475\n",
      "At random state  289 The Model perform very well\n",
      "At random state :- 289\n",
      "Training r2_score is :- 95.83716305419543\n",
      "Testing r2_score is :- 95.82633544732158\n",
      "At random state  290 The Model perform very well\n",
      "At random state :- 290\n",
      "Training r2_score is :- 95.80791791306673\n",
      "Testing r2_score is :- 95.84889579625498\n",
      "At random state  291 The Model perform very well\n",
      "At random state :- 291\n",
      "Training r2_score is :- 95.8405053560387\n",
      "Testing r2_score is :- 95.77870804401775\n",
      "At random state  294 The Model perform very well\n",
      "At random state :- 294\n",
      "Training r2_score is :- 95.83966978057788\n",
      "Testing r2_score is :- 95.77870804401775\n",
      "At random state  301 The Model perform very well\n",
      "At random state :- 301\n",
      "Training r2_score is :- 95.8405053560387\n",
      "Testing r2_score is :- 95.8438823853809\n",
      "At random state  302 The Model perform very well\n",
      "At random state :- 302\n",
      "Training r2_score is :- 95.82295827136149\n",
      "Testing r2_score is :- 95.82884215275863\n",
      "At random state  303 The Model perform very well\n",
      "At random state :- 303\n",
      "Training r2_score is :- 95.83966978057788\n",
      "Testing r2_score is :- 95.79374827664002\n",
      "At random state  310 The Model perform very well\n",
      "At random state :- 310\n",
      "Training r2_score is :- 95.84635438426444\n",
      "Testing r2_score is :- 95.76868122226956\n",
      "At random state  312 The Model perform very well\n",
      "At random state :- 312\n",
      "Training r2_score is :- 95.82546499774395\n",
      "Testing r2_score is :- 95.84638909081794\n",
      "At random state  314 The Model perform very well\n",
      "At random state :- 314\n",
      "Training r2_score is :- 95.8279717241264\n",
      "Testing r2_score is :- 95.83636226906977\n",
      "At random state  317 The Model perform very well\n",
      "At random state :- 317\n",
      "Training r2_score is :- 95.81460251675328\n",
      "Testing r2_score is :- 95.84638909081794\n",
      "At random state  318 The Model perform very well\n",
      "At random state :- 318\n",
      "Training r2_score is :- 95.84468323334279\n",
      "Testing r2_score is :- 95.76366781139548\n",
      "At random state  322 The Model perform very well\n",
      "At random state :- 322\n",
      "Training r2_score is :- 95.83883420511707\n",
      "Testing r2_score is :- 95.78121474945479\n",
      "At random state  326 The Model perform very well\n",
      "At random state :- 326\n",
      "Training r2_score is :- 95.8405053560387\n",
      "Testing r2_score is :- 95.81630862557341\n",
      "At random state  329 The Model perform very well\n",
      "At random state :- 329\n",
      "Training r2_score is :- 95.82128712043985\n",
      "Testing r2_score is :- 95.8213220364475\n",
      "At random state  330 The Model perform very well\n",
      "At random state :- 330\n",
      "Training r2_score is :- 95.84468323334279\n",
      "Testing r2_score is :- 95.80628180382523\n",
      "At random state  333 The Model perform very well\n",
      "At random state :- 333\n",
      "Training r2_score is :- 95.84134093149952\n",
      "Testing r2_score is :- 95.76116110595844\n",
      "At random state  338 The Model perform very well\n",
      "At random state :- 338\n",
      "Training r2_score is :- 95.8363274787346\n",
      "Testing r2_score is :- 95.79124157120297\n",
      "At random state  339 The Model perform very well\n",
      "At random state :- 339\n",
      "Training r2_score is :- 95.83131402596969\n",
      "Testing r2_score is :- 95.81630862557341\n",
      "At random state  344 The Model perform very well\n",
      "At random state :- 344\n",
      "Training r2_score is :- 95.8321496014305\n",
      "Testing r2_score is :- 95.83385556363272\n",
      "At random state  345 The Model perform very well\n",
      "At random state :- 345\n",
      "Training r2_score is :- 95.82964287504805\n",
      "Testing r2_score is :- 95.81129521469933\n",
      "At random state  348 The Model perform very well\n",
      "At random state :- 348\n",
      "Training r2_score is :- 95.82713614866559\n",
      "Testing r2_score is :- 95.82633544732158\n",
      "At random state  352 The Model perform very well\n",
      "At random state :- 352\n",
      "Training r2_score is :- 95.8237938468223\n",
      "Testing r2_score is :- 95.84137567994385\n",
      "At random state  356 The Model perform very well\n",
      "At random state :- 356\n",
      "Training r2_score is :- 95.8488611106469\n",
      "Testing r2_score is :- 95.80377509838819\n",
      "At random state  358 The Model perform very well\n",
      "At random state :- 358\n",
      "Training r2_score is :- 95.83047845050886\n",
      "Testing r2_score is :- 95.84889579625498\n",
      "At random state  359 The Model perform very well\n",
      "At random state :- 359\n",
      "Training r2_score is :- 95.82546499774395\n",
      "Testing r2_score is :- 95.8438823853809\n",
      "At random state  363 The Model perform very well\n",
      "At random state :- 363\n",
      "Training r2_score is :- 95.81543809221411\n",
      "Testing r2_score is :- 95.81630862557341\n",
      "At random state  373 The Model perform very well\n",
      "At random state :- 373\n",
      "Training r2_score is :- 95.83298517689133\n",
      "Testing r2_score is :- 95.83134885819568\n",
      "At random state  374 The Model perform very well\n",
      "At random state :- 374\n",
      "Training r2_score is :- 95.82546499774395\n",
      "Testing r2_score is :- 95.81881533101046\n",
      "At random state  378 The Model perform very well\n",
      "At random state :- 378\n",
      "Training r2_score is :- 95.82295827136149\n",
      "Testing r2_score is :- 95.83134885819568\n",
      "At random state  380 The Model perform very well\n",
      "At random state :- 380\n",
      "Training r2_score is :- 95.82462942228312\n",
      "Testing r2_score is :- 95.7987616875141\n",
      "At random state  381 The Model perform very well\n",
      "At random state :- 381\n",
      "Training r2_score is :- 95.84468323334279\n",
      "Testing r2_score is :- 95.77870804401775\n",
      "At random state  385 The Model perform very well\n",
      "At random state :- 385\n",
      "Training r2_score is :- 95.80039773391935\n",
      "Testing r2_score is :- 95.82382874188454\n",
      "At random state  389 The Model perform very well\n",
      "At random state :- 389\n",
      "Training r2_score is :- 95.83047845050886\n",
      "Testing r2_score is :- 95.78873486576592\n",
      "At random state  395 The Model perform very well\n",
      "At random state :- 395\n",
      "Training r2_score is :- 95.8363274787346\n",
      "Testing r2_score is :- 95.80628180382523\n",
      "At random state  398 The Model perform very well\n",
      "At random state :- 398\n",
      "Training r2_score is :- 95.83465632781297\n",
      "Testing r2_score is :- 95.78622816032887\n",
      "At random state  399 The Model perform very well\n",
      "At random state :- 399\n",
      "Training r2_score is :- 95.84802553518608\n",
      "Testing r2_score is :- 95.78873486576592\n",
      "At random state  403 The Model perform very well\n",
      "At random state :- 403\n",
      "Training r2_score is :- 95.82128712043985\n",
      "Testing r2_score is :- 95.8438823853809\n",
      "At random state  404 The Model perform very well\n",
      "At random state :- 404\n",
      "Training r2_score is :- 95.8062467621451\n",
      "Testing r2_score is :- 95.84137567994385\n",
      "At random state  410 The Model perform very well\n",
      "At random state :- 410\n",
      "Training r2_score is :- 95.84551880880362\n",
      "Testing r2_score is :- 95.7762013385807\n",
      "At random state  413 The Model perform very well\n",
      "At random state :- 413\n",
      "Training r2_score is :- 95.8279717241264\n",
      "Testing r2_score is :- 95.8438823853809\n",
      "At random state  422 The Model perform very well\n",
      "At random state :- 422\n",
      "Training r2_score is :- 95.84718995972527\n",
      "Testing r2_score is :- 95.77118792770662\n",
      "At random state  425 The Model perform very well\n",
      "At random state :- 425\n",
      "Training r2_score is :- 95.8363274787346\n",
      "Testing r2_score is :- 95.8213220364475\n",
      "At random state  426 The Model perform very well\n",
      "At random state :- 426\n",
      "Training r2_score is :- 95.83716305419543\n",
      "Testing r2_score is :- 95.80628180382523\n",
      "At random state  430 The Model perform very well\n",
      "At random state :- 430\n",
      "Training r2_score is :- 95.83549190327378\n",
      "Testing r2_score is :- 95.7762013385807\n",
      "At random state  432 The Model perform very well\n",
      "At random state :- 432\n",
      "Training r2_score is :- 95.83298517689133\n",
      "Testing r2_score is :- 95.82884215275863\n",
      "At random state  435 The Model perform very well\n",
      "At random state :- 435\n",
      "Training r2_score is :- 95.83131402596969\n",
      "Testing r2_score is :- 95.82884215275863\n",
      "At random state  436 The Model perform very well\n",
      "At random state :- 436\n",
      "Training r2_score is :- 95.82964287504805\n",
      "Testing r2_score is :- 95.84137567994385\n",
      "At random state  440 The Model perform very well\n",
      "At random state :- 440\n",
      "Training r2_score is :- 95.81293136583164\n",
      "Testing r2_score is :- 95.82633544732158\n",
      "At random state  445 The Model perform very well\n",
      "At random state :- 445\n",
      "Training r2_score is :- 95.83131402596969\n",
      "Testing r2_score is :- 95.81630862557341\n",
      "At random state  449 The Model perform very well\n",
      "At random state :- 449\n",
      "Training r2_score is :- 95.82212269590067\n",
      "Testing r2_score is :- 95.84638909081794\n",
      "At random state  450 The Model perform very well\n",
      "At random state :- 450\n",
      "Training r2_score is :- 95.83047845050886\n",
      "Testing r2_score is :- 95.80628180382523\n",
      "At random state  455 The Model perform very well\n",
      "At random state :- 455\n",
      "Training r2_score is :- 95.81878039405738\n",
      "Testing r2_score is :- 95.83385556363272\n",
      "At random state  462 The Model perform very well\n",
      "At random state :- 462\n",
      "Training r2_score is :- 95.84551880880362\n",
      "Testing r2_score is :- 95.7586544005214\n",
      "At random state  463 The Model perform very well\n",
      "At random state :- 463\n",
      "Training r2_score is :- 95.82880729958723\n",
      "Testing r2_score is :- 95.81129521469933\n",
      "At random state  466 The Model perform very well\n",
      "At random state :- 466\n",
      "Training r2_score is :- 95.81878039405738\n",
      "Testing r2_score is :- 95.84889579625498\n",
      "At random state  468 The Model perform very well\n",
      "At random state :- 468\n",
      "Training r2_score is :- 95.82295827136149\n",
      "Testing r2_score is :- 95.79124157120297\n",
      "At random state  469 The Model perform very well\n",
      "At random state :- 469\n",
      "Training r2_score is :- 95.8488611106469\n",
      "Testing r2_score is :- 95.7586544005214\n",
      "At random state  470 The Model perform very well\n",
      "At random state :- 470\n",
      "Training r2_score is :- 95.83883420511707\n",
      "Testing r2_score is :- 95.77118792770662\n",
      "At random state  472 The Model perform very well\n",
      "At random state :- 472\n",
      "Training r2_score is :- 95.8237938468223\n",
      "Testing r2_score is :- 95.8438823853809\n",
      "At random state  473 The Model perform very well\n",
      "At random state :- 473\n",
      "Training r2_score is :- 95.83966978057788\n",
      "Testing r2_score is :- 95.80377509838819\n",
      "At random state  475 The Model perform very well\n",
      "At random state :- 475\n",
      "Training r2_score is :- 95.8279717241264\n",
      "Testing r2_score is :- 95.79374827664002\n",
      "At random state  476 The Model perform very well\n",
      "At random state :- 476\n",
      "Training r2_score is :- 95.8405053560387\n",
      "Testing r2_score is :- 95.83636226906977\n",
      "At random state  479 The Model perform very well\n",
      "At random state :- 479\n",
      "Training r2_score is :- 95.79538428115443\n",
      "Testing r2_score is :- 95.83636226906977\n",
      "At random state  480 The Model perform very well\n",
      "At random state :- 480\n",
      "Training r2_score is :- 95.84969668610772\n",
      "Testing r2_score is :- 95.79625498207706\n",
      "At random state  485 The Model perform very well\n",
      "At random state :- 485\n",
      "Training r2_score is :- 95.81710924313575\n",
      "Testing r2_score is :- 95.84137567994385\n",
      "At random state  487 The Model perform very well\n",
      "At random state :- 487\n",
      "Training r2_score is :- 95.84969668610772\n",
      "Testing r2_score is :- 95.81129521469933\n",
      "At random state  497 The Model perform very well\n",
      "At random state :- 497\n",
      "Training r2_score is :- 95.83966978057788\n",
      "Testing r2_score is :- 95.83636226906977\n",
      "At random state  498 The Model perform very well\n",
      "At random state :- 498\n",
      "Training r2_score is :- 95.82546499774395\n",
      "Testing r2_score is :- 95.83636226906977\n",
      "At random state  506 The Model perform very well\n",
      "At random state :- 506\n",
      "Training r2_score is :- 95.84718995972527\n",
      "Testing r2_score is :- 95.79124157120297\n",
      "At random state  507 The Model perform very well\n",
      "At random state :- 507\n",
      "Training r2_score is :- 95.83131402596969\n",
      "Testing r2_score is :- 95.82884215275863\n",
      "At random state  513 The Model perform very well\n",
      "At random state :- 513\n",
      "Training r2_score is :- 95.83047845050886\n",
      "Testing r2_score is :- 95.80377509838819\n",
      "At random state  516 The Model perform very well\n",
      "At random state :- 516\n",
      "Training r2_score is :- 95.83131402596969\n",
      "Testing r2_score is :- 95.79124157120297\n",
      "At random state  517 The Model perform very well\n",
      "At random state :- 517\n",
      "Training r2_score is :- 95.84718995972527\n",
      "Testing r2_score is :- 95.76617451683252\n",
      "At random state  520 The Model perform very well\n",
      "At random state :- 520\n",
      "Training r2_score is :- 95.82128712043985\n",
      "Testing r2_score is :- 95.81129521469933\n",
      "At random state  521 The Model perform very well\n",
      "At random state :- 521\n",
      "Training r2_score is :- 95.8321496014305\n",
      "Testing r2_score is :- 95.82633544732158\n",
      "At random state  523 The Model perform very well\n",
      "At random state :- 523\n",
      "Training r2_score is :- 95.8321496014305\n",
      "Testing r2_score is :- 95.81129521469933\n",
      "At random state  524 The Model perform very well\n",
      "At random state :- 524\n",
      "Training r2_score is :- 95.84134093149952\n",
      "Testing r2_score is :- 95.79374827664002\n",
      "At random state  527 The Model perform very well\n",
      "At random state :- 527\n",
      "Training r2_score is :- 95.83966978057788\n",
      "Testing r2_score is :- 95.80628180382523\n",
      "At random state  530 The Model perform very well\n",
      "At random state :- 530\n",
      "Training r2_score is :- 95.82295827136149\n",
      "Testing r2_score is :- 95.7987616875141\n",
      "At random state  533 The Model perform very well\n",
      "At random state :- 533\n",
      "Training r2_score is :- 95.84635438426444\n",
      "Testing r2_score is :- 95.76116110595844\n",
      "At random state  535 The Model perform very well\n",
      "At random state :- 535\n",
      "Training r2_score is :- 95.81961596951821\n",
      "Testing r2_score is :- 95.80126839295114\n",
      "At random state  537 The Model perform very well\n",
      "At random state :- 537\n",
      "Training r2_score is :- 95.83047845050886\n",
      "Testing r2_score is :- 95.84889579625498\n",
      "At random state  540 The Model perform very well\n",
      "At random state :- 540\n",
      "Training r2_score is :- 95.82713614866559\n",
      "Testing r2_score is :- 95.84137567994385\n",
      "At random state  541 The Model perform very well\n",
      "At random state :- 541\n",
      "Training r2_score is :- 95.83966978057788\n",
      "Testing r2_score is :- 95.79625498207706\n",
      "At random state  546 The Model perform very well\n",
      "At random state :- 546\n",
      "Training r2_score is :- 95.8237938468223\n",
      "Testing r2_score is :- 95.79625498207706\n",
      "At random state  547 The Model perform very well\n",
      "At random state :- 547\n",
      "Training r2_score is :- 95.83716305419543\n",
      "Testing r2_score is :- 95.83385556363272\n",
      "At random state  550 The Model perform very well\n",
      "At random state :- 550\n",
      "Training r2_score is :- 95.83716305419543\n",
      "Testing r2_score is :- 95.80628180382523\n",
      "At random state  553 The Model perform very well\n",
      "At random state :- 553\n",
      "Training r2_score is :- 95.83465632781297\n",
      "Testing r2_score is :- 95.80126839295114\n",
      "At random state  554 The Model perform very well\n",
      "At random state :- 554\n",
      "Training r2_score is :- 95.83298517689133\n",
      "Testing r2_score is :- 95.83385556363272\n",
      "At random state  558 The Model perform very well\n",
      "At random state :- 558\n",
      "Training r2_score is :- 95.80791791306673\n",
      "Testing r2_score is :- 95.84638909081794\n",
      "At random state  560 The Model perform very well\n",
      "At random state :- 560\n",
      "Training r2_score is :- 95.82630057320478\n",
      "Testing r2_score is :- 95.82382874188454\n",
      "At random state  561 The Model perform very well\n",
      "At random state :- 561\n",
      "Training r2_score is :- 95.83465632781297\n",
      "Testing r2_score is :- 95.80126839295114\n",
      "At random state  563 The Model perform very well\n",
      "At random state :- 563\n",
      "Training r2_score is :- 95.83131402596969\n",
      "Testing r2_score is :- 95.83636226906977\n",
      "At random state  565 The Model perform very well\n",
      "At random state :- 565\n",
      "Training r2_score is :- 95.83298517689133\n",
      "Testing r2_score is :- 95.82633544732158\n",
      "At random state  569 The Model perform very well\n",
      "At random state :- 569\n",
      "Training r2_score is :- 95.81209579037083\n",
      "Testing r2_score is :- 95.83886897450681\n",
      "At random state  577 The Model perform very well\n",
      "At random state :- 577\n",
      "Training r2_score is :- 95.83549190327378\n",
      "Testing r2_score is :- 95.83134885819568\n",
      "At random state  580 The Model perform very well\n",
      "At random state :- 580\n",
      "Training r2_score is :- 95.83298517689133\n",
      "Testing r2_score is :- 95.79625498207706\n",
      "At random state  583 The Model perform very well\n",
      "At random state :- 583\n",
      "Training r2_score is :- 95.83716305419543\n",
      "Testing r2_score is :- 95.80126839295114\n",
      "At random state  585 The Model perform very well\n",
      "At random state :- 585\n",
      "Training r2_score is :- 95.81627366767492\n",
      "Testing r2_score is :- 95.80377509838819\n",
      "At random state  591 The Model perform very well\n",
      "At random state :- 591\n",
      "Training r2_score is :- 95.84217650696034\n",
      "Testing r2_score is :- 95.80628180382523\n",
      "At random state  594 The Model perform very well\n",
      "At random state :- 594\n",
      "Training r2_score is :- 95.83799862965624\n",
      "Testing r2_score is :- 95.84638909081794\n",
      "At random state  597 The Model perform very well\n",
      "At random state :- 597\n",
      "Training r2_score is :- 95.8321496014305\n",
      "Testing r2_score is :- 95.80878850926227\n",
      "At random state  598 The Model perform very well\n",
      "At random state :- 598\n",
      "Training r2_score is :- 95.80875348852756\n",
      "Testing r2_score is :- 95.8438823853809\n",
      "At random state  602 The Model perform very well\n",
      "At random state :- 602\n",
      "Training r2_score is :- 95.8279717241264\n",
      "Testing r2_score is :- 95.76366781139548\n",
      "At random state  609 The Model perform very well\n",
      "At random state :- 609\n",
      "Training r2_score is :- 95.84134093149952\n",
      "Testing r2_score is :- 95.81129521469933\n",
      "At random state  615 The Model perform very well\n",
      "At random state :- 615\n",
      "Training r2_score is :- 95.82713614866559\n",
      "Testing r2_score is :- 95.78622816032887\n",
      "At random state  618 The Model perform very well\n",
      "At random state :- 618\n",
      "Training r2_score is :- 95.8405053560387\n",
      "Testing r2_score is :- 95.78622816032887\n",
      "At random state  630 The Model perform very well\n",
      "At random state :- 630\n",
      "Training r2_score is :- 95.83966978057788\n",
      "Testing r2_score is :- 95.80878850926227\n",
      "At random state  636 The Model perform very well\n",
      "At random state :- 636\n",
      "Training r2_score is :- 95.8279717241264\n",
      "Testing r2_score is :- 95.82633544732158\n",
      "At random state  641 The Model perform very well\n",
      "At random state :- 641\n",
      "Training r2_score is :- 95.82546499774395\n",
      "Testing r2_score is :- 95.8213220364475\n",
      "At random state  643 The Model perform very well\n",
      "At random state :- 643\n",
      "Training r2_score is :- 95.84468323334279\n",
      "Testing r2_score is :- 95.79124157120297\n",
      "At random state  646 The Model perform very well\n",
      "At random state :- 646\n",
      "Training r2_score is :- 95.83883420511707\n",
      "Testing r2_score is :- 95.81630862557341\n",
      "At random state  647 The Model perform very well\n",
      "At random state :- 647\n",
      "Training r2_score is :- 95.83131402596969\n",
      "Testing r2_score is :- 95.81881533101046\n",
      "At random state  657 The Model perform very well\n",
      "At random state :- 657\n",
      "Training r2_score is :- 95.8405053560387\n",
      "Testing r2_score is :- 95.76366781139548\n",
      "At random state  658 The Model perform very well\n",
      "At random state :- 658\n",
      "Training r2_score is :- 95.84635438426444\n",
      "Testing r2_score is :- 95.7987616875141\n",
      "At random state  661 The Model perform very well\n",
      "At random state :- 661\n",
      "Training r2_score is :- 95.81710924313575\n",
      "Testing r2_score is :- 95.82633544732158\n",
      "At random state  664 The Model perform very well\n",
      "At random state :- 664\n",
      "Training r2_score is :- 95.84718995972527\n",
      "Testing r2_score is :- 95.76617451683252\n",
      "At random state  666 The Model perform very well\n",
      "At random state :- 666\n",
      "Training r2_score is :- 95.84134093149952\n",
      "Testing r2_score is :- 95.78873486576592\n",
      "At random state  667 The Model perform very well\n",
      "At random state :- 667\n",
      "Training r2_score is :- 95.83966978057788\n",
      "Testing r2_score is :- 95.78873486576592\n",
      "At random state  668 The Model perform very well\n",
      "At random state :- 668\n",
      "Training r2_score is :- 95.84635438426444\n",
      "Testing r2_score is :- 95.81380192013637\n",
      "At random state  669 The Model perform very well\n",
      "At random state :- 669\n",
      "Training r2_score is :- 95.8062467621451\n",
      "Testing r2_score is :- 95.84889579625498\n",
      "At random state  673 The Model perform very well\n",
      "At random state :- 673\n",
      "Training r2_score is :- 95.84134093149952\n",
      "Testing r2_score is :- 95.7762013385807\n",
      "At random state  674 The Model perform very well\n",
      "At random state :- 674\n",
      "Training r2_score is :- 95.82212269590067\n",
      "Testing r2_score is :- 95.83134885819568\n",
      "At random state  679 The Model perform very well\n",
      "At random state :- 679\n",
      "Training r2_score is :- 95.84384765788198\n",
      "Testing r2_score is :- 95.78622816032887\n",
      "At random state  681 The Model perform very well\n",
      "At random state :- 681\n",
      "Training r2_score is :- 95.8405053560387\n",
      "Testing r2_score is :- 95.78121474945479\n",
      "At random state  684 The Model perform very well\n",
      "At random state :- 684\n",
      "Training r2_score is :- 95.83883420511707\n",
      "Testing r2_score is :- 95.81129521469933\n",
      "At random state  688 The Model perform very well\n",
      "At random state :- 688\n",
      "Training r2_score is :- 95.83298517689133\n",
      "Testing r2_score is :- 95.83385556363272\n",
      "At random state  697 The Model perform very well\n",
      "At random state :- 697\n",
      "Training r2_score is :- 95.8279717241264\n",
      "Testing r2_score is :- 95.81129521469933\n",
      "At random state  708 The Model perform very well\n",
      "At random state :- 708\n",
      "Training r2_score is :- 95.84384765788198\n",
      "Testing r2_score is :- 95.83636226906977\n",
      "At random state  711 The Model perform very well\n",
      "At random state :- 711\n",
      "Training r2_score is :- 95.8237938468223\n",
      "Testing r2_score is :- 95.80628180382523\n",
      "At random state  713 The Model perform very well\n",
      "At random state :- 713\n",
      "Training r2_score is :- 95.84468323334279\n",
      "Testing r2_score is :- 95.7762013385807\n",
      "At random state  714 The Model perform very well\n",
      "At random state :- 714\n",
      "Training r2_score is :- 95.83799862965624\n",
      "Testing r2_score is :- 95.79374827664002\n",
      "At random state  715 The Model perform very well\n",
      "At random state :- 715\n",
      "Training r2_score is :- 95.84635438426444\n",
      "Testing r2_score is :- 95.81630862557341\n",
      "At random state  717 The Model perform very well\n",
      "At random state :- 717\n",
      "Training r2_score is :- 95.84718995972527\n",
      "Testing r2_score is :- 95.7762013385807\n",
      "At random state  718 The Model perform very well\n",
      "At random state :- 718\n",
      "Training r2_score is :- 95.83716305419543\n",
      "Testing r2_score is :- 95.76366781139548\n",
      "At random state  719 The Model perform very well\n",
      "At random state :- 719\n",
      "Training r2_score is :- 95.82713614866559\n",
      "Testing r2_score is :- 95.78873486576592\n",
      "At random state  721 The Model perform very well\n",
      "At random state :- 721\n",
      "Training r2_score is :- 95.84301208242117\n",
      "Testing r2_score is :- 95.78372145489183\n",
      "At random state  722 The Model perform very well\n",
      "At random state :- 722\n",
      "Training r2_score is :- 95.84468323334279\n",
      "Testing r2_score is :- 95.82633544732158\n",
      "At random state  725 The Model perform very well\n",
      "At random state :- 725\n",
      "Training r2_score is :- 95.84802553518608\n",
      "Testing r2_score is :- 95.81630862557341\n",
      "At random state  728 The Model perform very well\n",
      "At random state :- 728\n",
      "Training r2_score is :- 95.83883420511707\n",
      "Testing r2_score is :- 95.8213220364475\n",
      "At random state  736 The Model perform very well\n",
      "At random state :- 736\n",
      "Training r2_score is :- 95.84802553518608\n",
      "Testing r2_score is :- 95.75364098964731\n",
      "At random state  737 The Model perform very well\n",
      "At random state :- 737\n",
      "Training r2_score is :- 95.8405053560387\n",
      "Testing r2_score is :- 95.81881533101046\n",
      "At random state  741 The Model perform very well\n",
      "At random state :- 741\n",
      "Training r2_score is :- 95.84134093149952\n",
      "Testing r2_score is :- 95.8213220364475\n",
      "At random state  742 The Model perform very well\n",
      "At random state :- 742\n",
      "Training r2_score is :- 95.83131402596969\n",
      "Testing r2_score is :- 95.81881533101046\n",
      "At random state  746 The Model perform very well\n",
      "At random state :- 746\n",
      "Training r2_score is :- 95.82546499774395\n",
      "Testing r2_score is :- 95.83385556363272\n",
      "At random state  755 The Model perform very well\n",
      "At random state :- 755\n",
      "Training r2_score is :- 95.79789100753689\n",
      "Testing r2_score is :- 95.83886897450681\n",
      "At random state  756 The Model perform very well\n",
      "At random state :- 756\n",
      "Training r2_score is :- 95.8488611106469\n",
      "Testing r2_score is :- 95.78873486576592\n",
      "At random state  757 The Model perform very well\n",
      "At random state :- 757\n",
      "Training r2_score is :- 95.84217650696034\n",
      "Testing r2_score is :- 95.81881533101046\n",
      "At random state  758 The Model perform very well\n",
      "At random state :- 758\n",
      "Training r2_score is :- 95.81794481859657\n",
      "Testing r2_score is :- 95.81380192013637\n",
      "At random state  759 The Model perform very well\n",
      "At random state :- 759\n",
      "Training r2_score is :- 95.83966978057788\n",
      "Testing r2_score is :- 95.8213220364475\n",
      "At random state  765 The Model perform very well\n",
      "At random state :- 765\n",
      "Training r2_score is :- 95.82462942228312\n",
      "Testing r2_score is :- 95.83134885819568\n",
      "At random state  766 The Model perform very well\n",
      "At random state :- 766\n",
      "Training r2_score is :- 95.81126021491\n",
      "Testing r2_score is :- 95.84889579625498\n",
      "At random state  775 The Model perform very well\n",
      "At random state :- 775\n",
      "Training r2_score is :- 95.8279717241264\n",
      "Testing r2_score is :- 95.79374827664002\n",
      "At random state  776 The Model perform very well\n",
      "At random state :- 776\n",
      "Training r2_score is :- 95.82295827136149\n",
      "Testing r2_score is :- 95.80628180382523\n",
      "At random state  778 The Model perform very well\n",
      "At random state :- 778\n",
      "Training r2_score is :- 95.83549190327378\n",
      "Testing r2_score is :- 95.83134885819568\n",
      "At random state  782 The Model perform very well\n",
      "At random state :- 782\n",
      "Training r2_score is :- 95.84217650696034\n",
      "Testing r2_score is :- 95.77118792770662\n",
      "At random state  785 The Model perform very well\n",
      "At random state :- 785\n",
      "Training r2_score is :- 95.84802553518608\n",
      "Testing r2_score is :- 95.76868122226956\n",
      "At random state  788 The Model perform very well\n",
      "At random state :- 788\n",
      "Training r2_score is :- 95.83716305419543\n",
      "Testing r2_score is :- 95.76617451683252\n",
      "At random state  789 The Model perform very well\n",
      "At random state :- 789\n",
      "Training r2_score is :- 95.8321496014305\n",
      "Testing r2_score is :- 95.83886897450681\n",
      "At random state  794 The Model perform very well\n",
      "At random state :- 794\n",
      "Training r2_score is :- 95.8488611106469\n",
      "Testing r2_score is :- 95.7762013385807\n",
      "At random state  796 The Model perform very well\n",
      "At random state :- 796\n",
      "Training r2_score is :- 95.82045154497902\n",
      "Testing r2_score is :- 95.81881533101046\n",
      "At random state  797 The Model perform very well\n",
      "At random state :- 797\n",
      "Training r2_score is :- 95.82045154497902\n",
      "Testing r2_score is :- 95.82633544732158\n",
      "At random state  798 The Model perform very well\n",
      "At random state :- 798\n",
      "Training r2_score is :- 95.82295827136149\n",
      "Testing r2_score is :- 95.79625498207706\n",
      "At random state  802 The Model perform very well\n",
      "At random state :- 802\n",
      "Training r2_score is :- 95.83549190327378\n",
      "Testing r2_score is :- 95.83886897450681\n",
      "At random state  810 The Model perform very well\n",
      "At random state :- 810\n",
      "Training r2_score is :- 95.82045154497902\n",
      "Testing r2_score is :- 95.79625498207706\n",
      "At random state  818 The Model perform very well\n",
      "At random state :- 818\n",
      "Training r2_score is :- 95.83047845050886\n",
      "Testing r2_score is :- 95.83886897450681\n",
      "At random state  819 The Model perform very well\n",
      "At random state :- 819\n",
      "Training r2_score is :- 95.82880729958723\n",
      "Testing r2_score is :- 95.82633544732158\n",
      "At random state  827 The Model perform very well\n",
      "At random state :- 827\n",
      "Training r2_score is :- 95.82128712043985\n",
      "Testing r2_score is :- 95.84137567994385\n",
      "At random state  830 The Model perform very well\n",
      "At random state :- 830\n",
      "Training r2_score is :- 95.81543809221411\n",
      "Testing r2_score is :- 95.83886897450681\n",
      "At random state  831 The Model perform very well\n",
      "At random state :- 831\n",
      "Training r2_score is :- 95.82295827136149\n",
      "Testing r2_score is :- 95.81129521469933\n",
      "At random state  834 The Model perform very well\n",
      "At random state :- 834\n",
      "Training r2_score is :- 95.82880729958723\n",
      "Testing r2_score is :- 95.79374827664002\n",
      "At random state  837 The Model perform very well\n",
      "At random state :- 837\n",
      "Training r2_score is :- 95.82630057320478\n",
      "Testing r2_score is :- 95.81380192013637\n",
      "At random state  838 The Model perform very well\n",
      "At random state :- 838\n",
      "Training r2_score is :- 95.81710924313575\n",
      "Testing r2_score is :- 95.83886897450681\n",
      "At random state  841 The Model perform very well\n",
      "At random state :- 841\n",
      "Training r2_score is :- 95.83465632781297\n",
      "Testing r2_score is :- 95.7987616875141\n",
      "At random state  851 The Model perform very well\n",
      "At random state :- 851\n",
      "Training r2_score is :- 95.83465632781297\n",
      "Testing r2_score is :- 95.80126839295114\n",
      "At random state  852 The Model perform very well\n",
      "At random state :- 852\n",
      "Training r2_score is :- 95.81126021491\n",
      "Testing r2_score is :- 95.84638909081794\n",
      "At random state  855 The Model perform very well\n",
      "At random state :- 855\n",
      "Training r2_score is :- 95.83716305419543\n",
      "Testing r2_score is :- 95.79374827664002\n",
      "At random state  859 The Model perform very well\n",
      "At random state :- 859\n",
      "Training r2_score is :- 95.8405053560387\n",
      "Testing r2_score is :- 95.79374827664002\n",
      "At random state  863 The Model perform very well\n",
      "At random state :- 863\n",
      "Training r2_score is :- 95.8363274787346\n",
      "Testing r2_score is :- 95.83385556363272\n",
      "At random state  864 The Model perform very well\n",
      "At random state :- 864\n",
      "Training r2_score is :- 95.84217650696034\n",
      "Testing r2_score is :- 95.79124157120297\n",
      "At random state  865 The Model perform very well\n",
      "At random state :- 865\n",
      "Training r2_score is :- 95.81543809221411\n",
      "Testing r2_score is :- 95.81881533101046\n",
      "At random state  868 The Model perform very well\n",
      "At random state :- 868\n",
      "Training r2_score is :- 95.82964287504805\n",
      "Testing r2_score is :- 95.84889579625498\n",
      "At random state  869 The Model perform very well\n",
      "At random state :- 869\n",
      "Training r2_score is :- 95.84468323334279\n",
      "Testing r2_score is :- 95.75113428421027\n",
      "At random state  872 The Model perform very well\n",
      "At random state :- 872\n",
      "Training r2_score is :- 95.8237938468223\n",
      "Testing r2_score is :- 95.83385556363272\n",
      "At random state  877 The Model perform very well\n",
      "At random state :- 877\n",
      "Training r2_score is :- 95.84468323334279\n",
      "Testing r2_score is :- 95.78121474945479\n",
      "At random state  878 The Model perform very well\n",
      "At random state :- 878\n",
      "Training r2_score is :- 95.80457561122346\n",
      "Testing r2_score is :- 95.8438823853809\n",
      "At random state  881 The Model perform very well\n",
      "At random state :- 881\n",
      "Training r2_score is :- 95.83047845050886\n",
      "Testing r2_score is :- 95.7586544005214\n",
      "At random state  885 The Model perform very well\n",
      "At random state :- 885\n",
      "Training r2_score is :- 95.8363274787346\n",
      "Testing r2_score is :- 95.78372145489183\n",
      "At random state  886 The Model perform very well\n",
      "At random state :- 886\n",
      "Training r2_score is :- 95.83883420511707\n",
      "Testing r2_score is :- 95.83886897450681\n",
      "At random state  888 The Model perform very well\n",
      "At random state :- 888\n",
      "Training r2_score is :- 95.8363274787346\n",
      "Testing r2_score is :- 95.81881533101046\n",
      "At random state  889 The Model perform very well\n",
      "At random state :- 889\n",
      "Training r2_score is :- 95.82128712043985\n",
      "Testing r2_score is :- 95.80628180382523\n",
      "At random state  896 The Model perform very well\n",
      "At random state :- 896\n",
      "Training r2_score is :- 95.82462942228312\n",
      "Testing r2_score is :- 95.83886897450681\n",
      "At random state  898 The Model perform very well\n",
      "At random state :- 898\n",
      "Training r2_score is :- 95.84384765788198\n",
      "Testing r2_score is :- 95.80377509838819\n",
      "At random state  900 The Model perform very well\n",
      "At random state :- 900\n",
      "Training r2_score is :- 95.83716305419543\n",
      "Testing r2_score is :- 95.75614769508435\n",
      "At random state  902 The Model perform very well\n",
      "At random state :- 902\n",
      "Training r2_score is :- 95.84301208242117\n",
      "Testing r2_score is :- 95.82633544732158\n",
      "At random state  904 The Model perform very well\n",
      "At random state :- 904\n",
      "Training r2_score is :- 95.83131402596969\n",
      "Testing r2_score is :- 95.78873486576592\n",
      "At random state  905 The Model perform very well\n",
      "At random state :- 905\n",
      "Training r2_score is :- 95.82212269590067\n",
      "Testing r2_score is :- 95.78121474945479\n",
      "At random state  912 The Model perform very well\n",
      "At random state :- 912\n",
      "Training r2_score is :- 95.84802553518608\n",
      "Testing r2_score is :- 95.77369463314366\n",
      "At random state  916 The Model perform very well\n",
      "At random state :- 916\n",
      "Training r2_score is :- 95.8405053560387\n",
      "Testing r2_score is :- 95.80377509838819\n",
      "At random state  923 The Model perform very well\n",
      "At random state :- 923\n",
      "Training r2_score is :- 95.84468323334279\n",
      "Testing r2_score is :- 95.77369463314366\n",
      "At random state  929 The Model perform very well\n",
      "At random state :- 929\n",
      "Training r2_score is :- 95.83799862965624\n",
      "Testing r2_score is :- 95.84638909081794\n",
      "At random state  938 The Model perform very well\n",
      "At random state :- 938\n",
      "Training r2_score is :- 95.83716305419543\n",
      "Testing r2_score is :- 95.82382874188454\n",
      "At random state  940 The Model perform very well\n",
      "At random state :- 940\n",
      "Training r2_score is :- 95.83131402596969\n",
      "Testing r2_score is :- 95.79374827664002\n",
      "At random state  941 The Model perform very well\n",
      "At random state :- 941\n",
      "Training r2_score is :- 95.84134093149952\n",
      "Testing r2_score is :- 95.81881533101046\n",
      "At random state  943 The Model perform very well\n",
      "At random state :- 943\n",
      "Training r2_score is :- 95.84551880880362\n",
      "Testing r2_score is :- 95.75113428421027\n",
      "At random state  949 The Model perform very well\n",
      "At random state :- 949\n",
      "Training r2_score is :- 95.82212269590067\n",
      "Testing r2_score is :- 95.84137567994385\n",
      "At random state  952 The Model perform very well\n",
      "At random state :- 952\n",
      "Training r2_score is :- 95.81627366767492\n",
      "Testing r2_score is :- 95.83886897450681\n",
      "At random state  956 The Model perform very well\n",
      "At random state :- 956\n",
      "Training r2_score is :- 95.82212269590067\n",
      "Testing r2_score is :- 95.82884215275863\n",
      "At random state  960 The Model perform very well\n",
      "At random state :- 960\n",
      "Training r2_score is :- 95.83131402596969\n",
      "Testing r2_score is :- 95.84137567994385\n",
      "At random state  962 The Model perform very well\n",
      "At random state :- 962\n",
      "Training r2_score is :- 95.84551880880362\n",
      "Testing r2_score is :- 95.7987616875141\n",
      "At random state  965 The Model perform very well\n",
      "At random state :- 965\n",
      "Training r2_score is :- 95.80457561122346\n",
      "Testing r2_score is :- 95.83134885819568\n",
      "At random state  966 The Model perform very well\n",
      "At random state :- 966\n",
      "Training r2_score is :- 95.81961596951821\n",
      "Testing r2_score is :- 95.83385556363272\n",
      "At random state  968 The Model perform very well\n",
      "At random state :- 968\n",
      "Training r2_score is :- 95.83716305419543\n",
      "Testing r2_score is :- 95.81129521469933\n",
      "At random state  969 The Model perform very well\n",
      "At random state :- 969\n",
      "Training r2_score is :- 95.82546499774395\n",
      "Testing r2_score is :- 95.80628180382523\n",
      "At random state  974 The Model perform very well\n",
      "At random state :- 974\n",
      "Training r2_score is :- 95.84802553518608\n",
      "Testing r2_score is :- 95.78622816032887\n",
      "At random state  975 The Model perform very well\n",
      "At random state :- 975\n",
      "Training r2_score is :- 95.82462942228312\n",
      "Testing r2_score is :- 95.82633544732158\n",
      "At random state  976 The Model perform very well\n",
      "At random state :- 976\n",
      "Training r2_score is :- 95.82630057320478\n",
      "Testing r2_score is :- 95.81630862557341\n",
      "At random state  982 The Model perform very well\n",
      "At random state :- 982\n",
      "Training r2_score is :- 95.84718995972527\n",
      "Testing r2_score is :- 95.78873486576592\n",
      "At random state  983 The Model perform very well\n",
      "At random state :- 983\n",
      "Training r2_score is :- 95.83047845050886\n",
      "Testing r2_score is :- 95.80878850926227\n",
      "At random state  984 The Model perform very well\n",
      "At random state :- 984\n",
      "Training r2_score is :- 95.81627366767492\n",
      "Testing r2_score is :- 95.83886897450681\n",
      "At random state  989 The Model perform very well\n",
      "At random state :- 989\n",
      "Training r2_score is :- 95.83465632781297\n",
      "Testing r2_score is :- 95.82884215275863\n",
      "At random state  991 The Model perform very well\n",
      "At random state :- 991\n",
      "Training r2_score is :- 95.82045154497902\n",
      "Testing r2_score is :- 95.84889579625498\n",
      "At random state  992 The Model perform very well\n",
      "At random state :- 992\n",
      "Training r2_score is :- 95.82212269590067\n",
      "Testing r2_score is :- 95.83385556363272\n",
      "At random state  998 The Model perform very well\n",
      "At random state :- 998\n",
      "Training r2_score is :- 95.81961596951821\n",
      "Testing r2_score is :- 95.8213220364475\n"
     ]
    }
   ],
   "source": [
    "for i in range(0,1000):\n",
    "    x_train,x_test,y_train,y_test=train_test_split(x,y,random_state=i)\n",
    "    lr.fit(x_train,y_train)\n",
    "    pred_train=lr.predict(x_train)\n",
    "    pred_test=lr.predict(x_test)\n",
    "    if round(accuracy_score(y_train,pred_train)*100,1)==round(accuracy_score(y_test,pred_test)*100,1):\n",
    "        print(\"At random state \",i,\"The Model perform very well\")\n",
    "        print(\"At random state :-\",i)\n",
    "        print(\"Training r2_score is :-\",accuracy_score(y_train,pred_train)*100)\n",
    "        print(\"Testing r2_score is :-\",accuracy_score(y_test,pred_test)*100)\n",
    "    "
   ]
  },
  {
   "cell_type": "code",
   "execution_count": 56,
   "metadata": {},
   "outputs": [
    {
     "name": "stdout",
     "output_type": "stream",
     "text": [
      "              precision    recall  f1-score   support\n",
      "\n",
      "           0       0.96      0.99      0.98     36007\n",
      "           1       0.92      0.62      0.74      3886\n",
      "\n",
      "    accuracy                           0.96     39893\n",
      "   macro avg       0.94      0.81      0.86     39893\n",
      "weighted avg       0.96      0.96      0.95     39893\n",
      "\n"
     ]
    }
   ],
   "source": [
    "from sklearn.metrics import classification_report\n",
    "print(classification_report(y_test,pred_test))"
   ]
  },
  {
   "cell_type": "markdown",
   "metadata": {},
   "source": [
    "# Cross Validation of Dataset"
   ]
  },
  {
   "cell_type": "code",
   "execution_count": 57,
   "metadata": {},
   "outputs": [
    {
     "name": "stdout",
     "output_type": "stream",
     "text": [
      "At cv :-  2\n",
      "Cross validation score is :- 95.82568263097457\n",
      "accuracy_score is :- 95.73108064071391\n",
      "\n",
      "\n",
      "At cv :-  3\n",
      "Cross validation score is :- 95.8269366825809\n",
      "accuracy_score is :- 95.73108064071391\n",
      "\n",
      "\n",
      "At cv :-  4\n",
      "Cross validation score is :- 95.8288157296754\n",
      "accuracy_score is :- 95.73108064071391\n",
      "\n",
      "\n",
      "At cv :-  5\n",
      "Cross validation score is :- 95.82944332091934\n",
      "accuracy_score is :- 95.73108064071391\n",
      "\n",
      "\n",
      "At cv :-  6\n",
      "Cross validation score is :- 95.82881619276607\n",
      "accuracy_score is :- 95.73108064071391\n",
      "\n",
      "\n",
      "At cv :-  7\n",
      "Cross validation score is :- 95.8288162829427\n",
      "accuracy_score is :- 95.73108064071391\n",
      "\n",
      "\n",
      "At cv :-  8\n",
      "Cross validation score is :- 95.82819076363052\n",
      "accuracy_score is :- 95.73108064071391\n",
      "\n",
      "\n",
      "At cv :-  9\n",
      "Cross validation score is :- 95.82881539114092\n",
      "accuracy_score is :- 95.73108064071391\n",
      "\n",
      "\n"
     ]
    }
   ],
   "source": [
    "pred_lr=lr.predict(x_test)\n",
    "from sklearn.model_selection import cross_val_score\n",
    "lss=accuracy_score(y_test,pred_lr)\n",
    "for j in range(2,10):\n",
    "    lsscore=cross_val_score(lr,x,y,cv=j)\n",
    "    lsc=lsscore.mean()\n",
    "    print(\"At cv :- \",j)\n",
    "    print(\"Cross validation score is :-\",lsc*100)\n",
    "    print(\"accuracy_score is :-\",lss*100)\n",
    "    print(\"\\n\")"
   ]
  },
  {
   "cell_type": "code",
   "execution_count": 58,
   "metadata": {},
   "outputs": [
    {
     "name": "stdout",
     "output_type": "stream",
     "text": [
      "The cv score is:  0.9582568263097456 \n",
      " The accuracy_score is:  0.9573108064071391\n"
     ]
    }
   ],
   "source": [
    "lsscore_selected=cross_val_score(lr,x,y,cv=2).mean()\n",
    "print(\"The cv score is: \",lsscore_selected,\"\\n The accuracy_score is: \",lss)"
   ]
  },
  {
   "cell_type": "markdown",
   "metadata": {},
   "source": [
    "# AUC ROC curve"
   ]
  },
  {
   "cell_type": "code",
   "execution_count": 59,
   "metadata": {},
   "outputs": [
    {
     "data": {
      "image/png": "[encoded data removed]",
      "text/plain": [
       "<Figure size 432x288 with 1 Axes>"
      ]
     },
     "metadata": {
      "needs_background": "light"
     },
     "output_type": "display_data"
    }
   ],
   "source": [
    "from sklearn.metrics import roc_curve,auc\n",
    "fpr,tpr,thresholds=roc_curve(pred_test,y_test)\n",
    "roc_auc=auc(fpr,tpr)\n",
    "\n",
    "plt.figure()\n",
    "plt.plot(fpr,tpr,color='darkorange',lw=10,label='Roc curve (area=%0.2f)' %roc_auc)\n",
    "plt.plot([0,1],[0,1],color='navy',lw=10,linestyle='--')\n",
    "plt.xlim([0.0,1.0])\n",
    "plt.ylim([0.0,1.05])\n",
    "plt.xlabel('False Positive Rate')\n",
    "plt.ylabel('True Positive Rate')\n",
    "plt.title('Receiver Operating Characteristic')\n",
    "plt.legend(loc='lower right')\n",
    "plt.show()\n"
   ]
  },
  {
   "cell_type": "markdown",
   "metadata": {},
   "source": [
    "# Model Saving"
   ]
  },
  {
   "cell_type": "code",
   "execution_count": 60,
   "metadata": {},
   "outputs": [],
   "source": [
    "import pickle\n",
    "filename='Malignant.dt'\n",
    "pickle.dump(lr,open(filename,'wb'))"
   ]
  },
  {
   "cell_type": "markdown",
   "metadata": {},
   "source": [
    "# Conclusion"
   ]
  },
  {
   "cell_type": "code",
   "execution_count": 61,
   "metadata": {},
   "outputs": [
    {
     "data": {
      "text/html": [
       "<div>\n",
       "<style scoped>\n",
       "    .dataframe tbody tr th:only-of-type {\n",
       "        vertical-align: middle;\n",
       "    }\n",
       "\n",
       "    .dataframe tbody tr th {\n",
       "        vertical-align: top;\n",
       "    }\n",
       "\n",
       "    .dataframe thead th {\n",
       "        text-align: right;\n",
       "    }\n",
       "</style>\n",
       "<table border=\"1\" class=\"dataframe\">\n",
       "  <thead>\n",
       "    <tr style=\"text-align: right;\">\n",
       "      <th></th>\n",
       "      <th>original</th>\n",
       "      <th>predicted</th>\n",
       "    </tr>\n",
       "  </thead>\n",
       "  <tbody>\n",
       "    <tr>\n",
       "      <th>0</th>\n",
       "      <td>0</td>\n",
       "      <td>0</td>\n",
       "    </tr>\n",
       "    <tr>\n",
       "      <th>1</th>\n",
       "      <td>0</td>\n",
       "      <td>0</td>\n",
       "    </tr>\n",
       "    <tr>\n",
       "      <th>2</th>\n",
       "      <td>0</td>\n",
       "      <td>0</td>\n",
       "    </tr>\n",
       "    <tr>\n",
       "      <th>3</th>\n",
       "      <td>0</td>\n",
       "      <td>0</td>\n",
       "    </tr>\n",
       "    <tr>\n",
       "      <th>4</th>\n",
       "      <td>0</td>\n",
       "      <td>0</td>\n",
       "    </tr>\n",
       "    <tr>\n",
       "      <th>...</th>\n",
       "      <td>...</td>\n",
       "      <td>...</td>\n",
       "    </tr>\n",
       "    <tr>\n",
       "      <th>39888</th>\n",
       "      <td>1</td>\n",
       "      <td>0</td>\n",
       "    </tr>\n",
       "    <tr>\n",
       "      <th>39889</th>\n",
       "      <td>0</td>\n",
       "      <td>0</td>\n",
       "    </tr>\n",
       "    <tr>\n",
       "      <th>39890</th>\n",
       "      <td>0</td>\n",
       "      <td>0</td>\n",
       "    </tr>\n",
       "    <tr>\n",
       "      <th>39891</th>\n",
       "      <td>0</td>\n",
       "      <td>0</td>\n",
       "    </tr>\n",
       "    <tr>\n",
       "      <th>39892</th>\n",
       "      <td>0</td>\n",
       "      <td>0</td>\n",
       "    </tr>\n",
       "  </tbody>\n",
       "</table>\n",
       "<p>39893 rows × 2 columns</p>\n",
       "</div>"
      ],
      "text/plain": [
       "       original  predicted\n",
       "0             0          0\n",
       "1             0          0\n",
       "2             0          0\n",
       "3             0          0\n",
       "4             0          0\n",
       "...         ...        ...\n",
       "39888         1          0\n",
       "39889         0          0\n",
       "39890         0          0\n",
       "39891         0          0\n",
       "39892         0          0\n",
       "\n",
       "[39893 rows x 2 columns]"
      ]
     },
     "execution_count": 61,
     "metadata": {},
     "output_type": "execute_result"
    }
   ],
   "source": [
    "import numpy as np\n",
    "a=np.array(y_test)\n",
    "predicted=np.array(lr.predict(x_test))\n",
    "df_com=pd.DataFrame({'original':a,'predicted':predicted},index=range(len(a)))\n",
    "df_com"
   ]
  },
  {
   "cell_type": "code",
   "execution_count": null,
   "metadata": {},
   "outputs": [],
   "source": []
  }
 ],
 "metadata": {
  "kernelspec": {
   "display_name": "Python 3",
   "language": "python",
   "name": "python3"
  },
  "language_info": {
   "codemirror_mode": {
    "name": "ipython",
    "version": 3
   },
   "file_extension": ".py",
   "mimetype": "text/x-python",
   "name": "python",
   "nbconvert_exporter": "python",
   "pygments_lexer": "ipython3",
   "version": "3.8.5"
  }
 },
 "nbformat": 4,
 "nbformat_minor": 4
}
